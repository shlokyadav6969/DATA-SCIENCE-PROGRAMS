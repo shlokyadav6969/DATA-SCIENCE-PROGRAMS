{
  "nbformat": 4,
  "nbformat_minor": 0,
  "metadata": {
    "colab": {
      "provenance": []
    },
    "kernelspec": {
      "name": "python3",
      "display_name": "Python 3"
    },
    "language_info": {
      "name": "python"
    }
  },
  "cells": [
    {
      "cell_type": "code",
      "execution_count": 4,
      "metadata": {
        "id": "h-Stu-cgV8RF"
      },
      "outputs": [],
      "source": [
        "#1. logistic Regression: giving 97.77% accuracy\n",
        "import pandas as pd\n",
        "from sklearn.linear_model import LogisticRegression\n",
        "from sklearn.model_selection import train_test_split\n",
        "from sklearn.metrics import accuracy_score\n",
        "from sklearn.metrics import classification_report\n",
        "from sklearn.metrics import confusion_matrix\n",
        "from sklearn.impute import SimpleImputer"
      ]
    },
    {
      "cell_type": "code",
      "source": [
        "logr=LogisticRegression()"
      ],
      "metadata": {
        "id": "eyl4l3ZwWG5a"
      },
      "execution_count": 5,
      "outputs": []
    },
    {
      "cell_type": "code",
      "source": [
        "df=pd.read_csv(\"tested.csv\")\n",
        "print(df)"
      ],
      "metadata": {
        "colab": {
          "base_uri": "https://localhost:8080/"
        },
        "id": "BtTQ195jWYRK",
        "outputId": "7f972059-32cc-4408-eea1-417b69240b8b"
      },
      "execution_count": 6,
      "outputs": [
        {
          "output_type": "stream",
          "name": "stdout",
          "text": [
            "     PassengerId  Survived  Pclass  \\\n",
            "0            892         0       3   \n",
            "1            893         1       3   \n",
            "2            894         0       2   \n",
            "3            895         0       3   \n",
            "4            896         1       3   \n",
            "..           ...       ...     ...   \n",
            "413         1305         0       3   \n",
            "414         1306         1       1   \n",
            "415         1307         0       3   \n",
            "416         1308         0       3   \n",
            "417         1309         0       3   \n",
            "\n",
            "                                             Name     Sex   Age  SibSp  Parch  \\\n",
            "0                                Kelly, Mr. James    male  34.5      0      0   \n",
            "1                Wilkes, Mrs. James (Ellen Needs)  female  47.0      1      0   \n",
            "2                       Myles, Mr. Thomas Francis    male  62.0      0      0   \n",
            "3                                Wirz, Mr. Albert    male  27.0      0      0   \n",
            "4    Hirvonen, Mrs. Alexander (Helga E Lindqvist)  female  22.0      1      1   \n",
            "..                                            ...     ...   ...    ...    ...   \n",
            "413                            Spector, Mr. Woolf    male   NaN      0      0   \n",
            "414                  Oliva y Ocana, Dona. Fermina  female  39.0      0      0   \n",
            "415                  Saether, Mr. Simon Sivertsen    male  38.5      0      0   \n",
            "416                           Ware, Mr. Frederick    male   NaN      0      0   \n",
            "417                      Peter, Master. Michael J    male   NaN      1      1   \n",
            "\n",
            "                 Ticket      Fare Cabin Embarked  \n",
            "0                330911    7.8292   NaN        Q  \n",
            "1                363272    7.0000   NaN        S  \n",
            "2                240276    9.6875   NaN        Q  \n",
            "3                315154    8.6625   NaN        S  \n",
            "4               3101298   12.2875   NaN        S  \n",
            "..                  ...       ...   ...      ...  \n",
            "413           A.5. 3236    8.0500   NaN        S  \n",
            "414            PC 17758  108.9000  C105        C  \n",
            "415  SOTON/O.Q. 3101262    7.2500   NaN        S  \n",
            "416              359309    8.0500   NaN        S  \n",
            "417                2668   22.3583   NaN        C  \n",
            "\n",
            "[418 rows x 12 columns]\n"
          ]
        }
      ]
    },
    {
      "cell_type": "code",
      "source": [
        "imputer = SimpleImputer(strategy='mean')\n",
        "df['Age'] = imputer.fit_transform(df[['Age']])"
      ],
      "metadata": {
        "id": "-5ev1fG3WoK7"
      },
      "execution_count": 7,
      "outputs": []
    },
    {
      "cell_type": "code",
      "source": [
        "print(df.columns)"
      ],
      "metadata": {
        "colab": {
          "base_uri": "https://localhost:8080/"
        },
        "id": "Cr5wg6qmX7Ln",
        "outputId": "102f29c4-a5c3-4ea3-dc89-632ece0ff4c3"
      },
      "execution_count": 8,
      "outputs": [
        {
          "output_type": "stream",
          "name": "stdout",
          "text": [
            "Index(['PassengerId', 'Survived', 'Pclass', 'Name', 'Sex', 'Age', 'SibSp',\n",
            "       'Parch', 'Ticket', 'Fare', 'Cabin', 'Embarked'],\n",
            "      dtype='object')\n"
          ]
        }
      ]
    },
    {
      "cell_type": "code",
      "source": [
        "df.drop(columns=['PassengerId',  'Ticket', 'Cabin'], inplace=True)"
      ],
      "metadata": {
        "id": "2YyY_FYeXcQo"
      },
      "execution_count": 9,
      "outputs": []
    },
    {
      "cell_type": "code",
      "source": [
        "print(df.columns)"
      ],
      "metadata": {
        "colab": {
          "base_uri": "https://localhost:8080/"
        },
        "id": "Mah1FwoXY1pE",
        "outputId": "29063e0d-3041-4f04-e623-c90f2f68c795"
      },
      "execution_count": 10,
      "outputs": [
        {
          "output_type": "stream",
          "name": "stdout",
          "text": [
            "Index(['Survived', 'Pclass', 'Name', 'Sex', 'Age', 'SibSp', 'Parch', 'Fare',\n",
            "       'Embarked'],\n",
            "      dtype='object')\n"
          ]
        }
      ]
    },
    {
      "cell_type": "code",
      "source": [
        "# Separate features (X) and target variable (y)\n",
        "X = df.drop('Survived', axis=1)\n",
        "y = df['Survived']"
      ],
      "metadata": {
        "id": "8ltMnFO6Z3eI"
      },
      "execution_count": 11,
      "outputs": []
    },
    {
      "cell_type": "code",
      "source": [
        "# Importing LabelEncoder from Sklearn\n",
        "# library from preprocessing Module.\n",
        "from sklearn.preprocessing import LabelEncoder\n",
        "\n",
        "le_sex = LabelEncoder()\n",
        "le_embarked = LabelEncoder()\n",
        "\n",
        "df['Sex'] = le_sex.fit_transform(df['Sex'])\n",
        "df['Embarked'] = le_embarked.fit_transform(df['Embarked'])\n",
        "\n",
        "pd.set_option('display.max_rows',None)\n",
        "pd.set_option('display.max_columns',None)\n",
        "\n",
        "pd.reset_option('display.max_rows')\n",
        "pd.reset_option('display.max_columns')\n",
        "\n",
        "print(df.head())\n",
        "\n",
        "X_train, X_test, y_train, y_test = train_test_split(X, y, test_size=0.3, random_state=1)\n",
        "\n",
        "print(\"Features:\\n\")\n",
        "print(X)\n",
        "\n",
        "print(\"Target\\n\")\n",
        "print(y)"
      ],
      "metadata": {
        "colab": {
          "base_uri": "https://localhost:8080/"
        },
        "id": "p5PaeoTtZBaJ",
        "outputId": "5a2b763f-4ae0-4368-dab4-3915b3ee6eaa"
      },
      "execution_count": 12,
      "outputs": [
        {
          "output_type": "stream",
          "name": "stdout",
          "text": [
            "   Survived  Pclass                                          Name  Sex   Age  \\\n",
            "0         0       3                              Kelly, Mr. James    1  34.5   \n",
            "1         1       3              Wilkes, Mrs. James (Ellen Needs)    0  47.0   \n",
            "2         0       2                     Myles, Mr. Thomas Francis    1  62.0   \n",
            "3         0       3                              Wirz, Mr. Albert    1  27.0   \n",
            "4         1       3  Hirvonen, Mrs. Alexander (Helga E Lindqvist)    0  22.0   \n",
            "\n",
            "   SibSp  Parch     Fare  Embarked  \n",
            "0      0      0   7.8292         1  \n",
            "1      1      0   7.0000         2  \n",
            "2      0      0   9.6875         1  \n",
            "3      0      0   8.6625         2  \n",
            "4      1      1  12.2875         2  \n",
            "Features:\n",
            "\n",
            "     Pclass                                          Name     Sex       Age  \\\n",
            "0         3                              Kelly, Mr. James    male  34.50000   \n",
            "1         3              Wilkes, Mrs. James (Ellen Needs)  female  47.00000   \n",
            "2         2                     Myles, Mr. Thomas Francis    male  62.00000   \n",
            "3         3                              Wirz, Mr. Albert    male  27.00000   \n",
            "4         3  Hirvonen, Mrs. Alexander (Helga E Lindqvist)  female  22.00000   \n",
            "..      ...                                           ...     ...       ...   \n",
            "413       3                            Spector, Mr. Woolf    male  30.27259   \n",
            "414       1                  Oliva y Ocana, Dona. Fermina  female  39.00000   \n",
            "415       3                  Saether, Mr. Simon Sivertsen    male  38.50000   \n",
            "416       3                           Ware, Mr. Frederick    male  30.27259   \n",
            "417       3                      Peter, Master. Michael J    male  30.27259   \n",
            "\n",
            "     SibSp  Parch      Fare Embarked  \n",
            "0        0      0    7.8292        Q  \n",
            "1        1      0    7.0000        S  \n",
            "2        0      0    9.6875        Q  \n",
            "3        0      0    8.6625        S  \n",
            "4        1      1   12.2875        S  \n",
            "..     ...    ...       ...      ...  \n",
            "413      0      0    8.0500        S  \n",
            "414      0      0  108.9000        C  \n",
            "415      0      0    7.2500        S  \n",
            "416      0      0    8.0500        S  \n",
            "417      1      1   22.3583        C  \n",
            "\n",
            "[418 rows x 8 columns]\n",
            "Target\n",
            "\n",
            "0      0\n",
            "1      1\n",
            "2      0\n",
            "3      0\n",
            "4      1\n",
            "      ..\n",
            "413    0\n",
            "414    1\n",
            "415    0\n",
            "416    0\n",
            "417    0\n",
            "Name: Survived, Length: 418, dtype: int64\n"
          ]
        }
      ]
    },
    {
      "cell_type": "code",
      "source": [
        "# After applying LabelEncoder\n",
        "print(df['Sex'].head())\n",
        "print(df['Embarked'].head())\n",
        "\n",
        "print(df.head())\n"
      ],
      "metadata": {
        "id": "ZzPv0lZdb6pc",
        "colab": {
          "base_uri": "https://localhost:8080/"
        },
        "outputId": "0ef0f03c-af63-4bd9-e729-31ab4a4701fd"
      },
      "execution_count": 13,
      "outputs": [
        {
          "output_type": "stream",
          "name": "stdout",
          "text": [
            "0    1\n",
            "1    0\n",
            "2    1\n",
            "3    1\n",
            "4    0\n",
            "Name: Sex, dtype: int64\n",
            "0    1\n",
            "1    2\n",
            "2    1\n",
            "3    2\n",
            "4    2\n",
            "Name: Embarked, dtype: int64\n",
            "   Survived  Pclass                                          Name  Sex   Age  \\\n",
            "0         0       3                              Kelly, Mr. James    1  34.5   \n",
            "1         1       3              Wilkes, Mrs. James (Ellen Needs)    0  47.0   \n",
            "2         0       2                     Myles, Mr. Thomas Francis    1  62.0   \n",
            "3         0       3                              Wirz, Mr. Albert    1  27.0   \n",
            "4         1       3  Hirvonen, Mrs. Alexander (Helga E Lindqvist)    0  22.0   \n",
            "\n",
            "   SibSp  Parch     Fare  Embarked  \n",
            "0      0      0   7.8292         1  \n",
            "1      1      0   7.0000         2  \n",
            "2      0      0   9.6875         1  \n",
            "3      0      0   8.6625         2  \n",
            "4      1      1  12.2875         2  \n"
          ]
        }
      ]
    },
    {
      "cell_type": "code",
      "source": [
        "X_train, X_test, y_train, y_test = train_test_split(X, y, test_size=0.3, random_state=1)\n",
        "\n",
        "print(\"Features:\\n\")\n",
        "print(X)\n",
        "\n",
        "print(\"Target\\n\")\n",
        "print(y)"
      ],
      "metadata": {
        "colab": {
          "base_uri": "https://localhost:8080/"
        },
        "id": "s8EhE6xM6YQX",
        "outputId": "255c7231-d4ee-403f-e629-66a020dc47c2"
      },
      "execution_count": 14,
      "outputs": [
        {
          "output_type": "stream",
          "name": "stdout",
          "text": [
            "Features:\n",
            "\n",
            "     Pclass                                          Name     Sex       Age  \\\n",
            "0         3                              Kelly, Mr. James    male  34.50000   \n",
            "1         3              Wilkes, Mrs. James (Ellen Needs)  female  47.00000   \n",
            "2         2                     Myles, Mr. Thomas Francis    male  62.00000   \n",
            "3         3                              Wirz, Mr. Albert    male  27.00000   \n",
            "4         3  Hirvonen, Mrs. Alexander (Helga E Lindqvist)  female  22.00000   \n",
            "..      ...                                           ...     ...       ...   \n",
            "413       3                            Spector, Mr. Woolf    male  30.27259   \n",
            "414       1                  Oliva y Ocana, Dona. Fermina  female  39.00000   \n",
            "415       3                  Saether, Mr. Simon Sivertsen    male  38.50000   \n",
            "416       3                           Ware, Mr. Frederick    male  30.27259   \n",
            "417       3                      Peter, Master. Michael J    male  30.27259   \n",
            "\n",
            "     SibSp  Parch      Fare Embarked  \n",
            "0        0      0    7.8292        Q  \n",
            "1        1      0    7.0000        S  \n",
            "2        0      0    9.6875        Q  \n",
            "3        0      0    8.6625        S  \n",
            "4        1      1   12.2875        S  \n",
            "..     ...    ...       ...      ...  \n",
            "413      0      0    8.0500        S  \n",
            "414      0      0  108.9000        C  \n",
            "415      0      0    7.2500        S  \n",
            "416      0      0    8.0500        S  \n",
            "417      1      1   22.3583        C  \n",
            "\n",
            "[418 rows x 8 columns]\n",
            "Target\n",
            "\n",
            "0      0\n",
            "1      1\n",
            "2      0\n",
            "3      0\n",
            "4      1\n",
            "      ..\n",
            "413    0\n",
            "414    1\n",
            "415    0\n",
            "416    0\n",
            "417    0\n",
            "Name: Survived, Length: 418, dtype: int64\n"
          ]
        }
      ]
    },
    {
      "cell_type": "code",
      "source": [
        "X_train, X_test, y_train, y_test = train_test_split(df[['Pclass', 'Sex', 'Age', 'SibSp', 'Parch', 'Fare', 'Embarked']], df['Survived'], test_size=0.3, random_state=1)"
      ],
      "metadata": {
        "id": "F5U1AVTR6kxX"
      },
      "execution_count": 15,
      "outputs": []
    },
    {
      "cell_type": "code",
      "source": [
        "X = df[['Pclass', 'Sex', 'Age', 'SibSp', 'Parch', 'Fare', 'Embarked']]\n",
        "y = df['Survived']\n",
        "\n",
        "X_train, X_test, y_train, y_test = train_test_split(X, y, test_size=0.3, random_state=1)\n"
      ],
      "metadata": {
        "id": "rmeVg9fa7Jhr"
      },
      "execution_count": 16,
      "outputs": []
    },
    {
      "cell_type": "code",
      "source": [
        "print(\"Features:\\n\")\n",
        "print(X)"
      ],
      "metadata": {
        "colab": {
          "base_uri": "https://localhost:8080/"
        },
        "id": "qMr5ecvE7Lnq",
        "outputId": "a98563c0-f8b8-419c-9f97-f7ae6982163d"
      },
      "execution_count": 17,
      "outputs": [
        {
          "output_type": "stream",
          "name": "stdout",
          "text": [
            "Features:\n",
            "\n",
            "     Pclass  Sex       Age  SibSp  Parch      Fare  Embarked\n",
            "0         3    1  34.50000      0      0    7.8292         1\n",
            "1         3    0  47.00000      1      0    7.0000         2\n",
            "2         2    1  62.00000      0      0    9.6875         1\n",
            "3         3    1  27.00000      0      0    8.6625         2\n",
            "4         3    0  22.00000      1      1   12.2875         2\n",
            "..      ...  ...       ...    ...    ...       ...       ...\n",
            "413       3    1  30.27259      0      0    8.0500         2\n",
            "414       1    0  39.00000      0      0  108.9000         0\n",
            "415       3    1  38.50000      0      0    7.2500         2\n",
            "416       3    1  30.27259      0      0    8.0500         2\n",
            "417       3    1  30.27259      1      1   22.3583         0\n",
            "\n",
            "[418 rows x 7 columns]\n"
          ]
        }
      ]
    },
    {
      "cell_type": "code",
      "source": [
        "print(\"Target:\\n\")\n",
        "print(y)"
      ],
      "metadata": {
        "colab": {
          "base_uri": "https://localhost:8080/"
        },
        "id": "d4Lu3ds37PLn",
        "outputId": "43016d39-7bcf-4714-ec5e-3634564f6051"
      },
      "execution_count": 18,
      "outputs": [
        {
          "output_type": "stream",
          "name": "stdout",
          "text": [
            "Target:\n",
            "\n",
            "0      0\n",
            "1      1\n",
            "2      0\n",
            "3      0\n",
            "4      1\n",
            "      ..\n",
            "413    0\n",
            "414    1\n",
            "415    0\n",
            "416    0\n",
            "417    0\n",
            "Name: Survived, Length: 418, dtype: int64\n"
          ]
        }
      ]
    },
    {
      "cell_type": "code",
      "source": [
        "print(\"Training data of x:\\n\",X_train)\n",
        "print(\"Testing data of x:\\n\",X_test)\n",
        "print(\"Training data of y:\\n\",y_train)\n",
        "print(\"Testing data of y \\n\",y_test)"
      ],
      "metadata": {
        "colab": {
          "base_uri": "https://localhost:8080/"
        },
        "id": "h9_oUTJc7e2k",
        "outputId": "46966660-6ab1-4e30-9763-279b15967cec"
      },
      "execution_count": 19,
      "outputs": [
        {
          "output_type": "stream",
          "name": "stdout",
          "text": [
            "Training data of x:\n",
            "      Pclass  Sex       Age  SibSp  Parch     Fare  Embarked\n",
            "383       3    0  19.00000      1      0  16.1000         2\n",
            "380       3    1  30.27259      0      0   7.7500         1\n",
            "27        3    1  22.50000      0      0   7.2250         0\n",
            "89        2    1   2.00000      1      1  23.0000         2\n",
            "326       2    0  12.00000      2      1  39.0000         2\n",
            "..      ...  ...       ...    ...    ...      ...       ...\n",
            "255       3    1  30.27259      0      0   7.5500         2\n",
            "72        3    0  29.00000      0      0   7.9250         2\n",
            "396       3    1  24.00000      0      0   7.2500         1\n",
            "235       3    1  20.00000      0      0   7.8542         2\n",
            "37        3    0  21.00000      0      0   8.6625         2\n",
            "\n",
            "[292 rows x 7 columns]\n",
            "Testing data of x:\n",
            "      Pclass  Sex       Age  SibSp  Parch     Fare  Embarked\n",
            "358       3    1  30.27259      0      0   7.7500         1\n",
            "164       2    1  41.00000      0      0  13.0000         2\n",
            "17        3    1  21.00000      0      0   7.2250         0\n",
            "67        1    1  47.00000      0      0  42.4000         2\n",
            "4         3    0  22.00000      1      1  12.2875         2\n",
            "..      ...  ...       ...    ...    ...      ...       ...\n",
            "392       3    1  13.00000      0      2  20.2500         2\n",
            "367       3    0  22.00000      0      0  39.6875         2\n",
            "273       3    0  30.27259      1      0  15.5000         1\n",
            "300       3    1  32.00000      0      0   7.7750         2\n",
            "82        1    1  49.00000      0      0  26.0000         2\n",
            "\n",
            "[126 rows x 7 columns]\n",
            "Training data of y:\n",
            " 383    1\n",
            "380    0\n",
            "27     0\n",
            "89     0\n",
            "326    1\n",
            "      ..\n",
            "255    0\n",
            "72     1\n",
            "396    0\n",
            "235    0\n",
            "37     1\n",
            "Name: Survived, Length: 292, dtype: int64\n",
            "Testing data of y \n",
            " 358    0\n",
            "164    0\n",
            "17     0\n",
            "67     0\n",
            "4      1\n",
            "      ..\n",
            "392    0\n",
            "367    1\n",
            "273    1\n",
            "300    0\n",
            "82     0\n",
            "Name: Survived, Length: 126, dtype: int64\n"
          ]
        }
      ]
    },
    {
      "cell_type": "code",
      "source": [
        "logr=LogisticRegression()"
      ],
      "metadata": {
        "id": "NHeoJdobQGwD"
      },
      "execution_count": 20,
      "outputs": []
    },
    {
      "cell_type": "code",
      "source": [
        "print(df.isnull().sum())"
      ],
      "metadata": {
        "id": "W2v9Ybfn9zaW",
        "colab": {
          "base_uri": "https://localhost:8080/"
        },
        "outputId": "a700496b-0e16-417b-f3d2-723feb177aae"
      },
      "execution_count": 21,
      "outputs": [
        {
          "output_type": "stream",
          "name": "stdout",
          "text": [
            "Survived    0\n",
            "Pclass      0\n",
            "Name        0\n",
            "Sex         0\n",
            "Age         0\n",
            "SibSp       0\n",
            "Parch       0\n",
            "Fare        1\n",
            "Embarked    0\n",
            "dtype: int64\n"
          ]
        }
      ]
    },
    {
      "cell_type": "code",
      "source": [
        "imputer = SimpleImputer(strategy='mean')\n",
        "df['Fare'] = imputer.fit_transform(df[['Fare']])"
      ],
      "metadata": {
        "id": "dEsbeGwzQjtQ"
      },
      "execution_count": 22,
      "outputs": []
    },
    {
      "cell_type": "code",
      "source": [
        "print(df.isnull().sum())"
      ],
      "metadata": {
        "colab": {
          "base_uri": "https://localhost:8080/"
        },
        "id": "VdT-3nLQRHJ-",
        "outputId": "57a65943-cee8-4d48-c942-ca4df434faf2"
      },
      "execution_count": 23,
      "outputs": [
        {
          "output_type": "stream",
          "name": "stdout",
          "text": [
            "Survived    0\n",
            "Pclass      0\n",
            "Name        0\n",
            "Sex         0\n",
            "Age         0\n",
            "SibSp       0\n",
            "Parch       0\n",
            "Fare        0\n",
            "Embarked    0\n",
            "dtype: int64\n"
          ]
        }
      ]
    },
    {
      "cell_type": "code",
      "source": [
        "print(X_train.isnull().sum())"
      ],
      "metadata": {
        "colab": {
          "base_uri": "https://localhost:8080/"
        },
        "id": "rabg-s3cSoCP",
        "outputId": "f0495150-1798-4bee-b98b-2cea97dc16c9"
      },
      "execution_count": 24,
      "outputs": [
        {
          "output_type": "stream",
          "name": "stdout",
          "text": [
            "Pclass      0\n",
            "Sex         0\n",
            "Age         0\n",
            "SibSp       0\n",
            "Parch       0\n",
            "Fare        1\n",
            "Embarked    0\n",
            "dtype: int64\n"
          ]
        }
      ]
    },
    {
      "cell_type": "code",
      "source": [
        "imputer = SimpleImputer(strategy='mean')\n",
        "X_train['Fare'] = imputer.fit_transform(X_train[['Fare']])"
      ],
      "metadata": {
        "id": "-pksZ_m3S4nv"
      },
      "execution_count": 25,
      "outputs": []
    },
    {
      "cell_type": "code",
      "source": [
        "print(X_train.isnull().sum())"
      ],
      "metadata": {
        "colab": {
          "base_uri": "https://localhost:8080/"
        },
        "id": "k1MeM3d0TIwf",
        "outputId": "ebee7e73-9160-41dc-eba7-0a5e2dbb1207"
      },
      "execution_count": 26,
      "outputs": [
        {
          "output_type": "stream",
          "name": "stdout",
          "text": [
            "Pclass      0\n",
            "Sex         0\n",
            "Age         0\n",
            "SibSp       0\n",
            "Parch       0\n",
            "Fare        0\n",
            "Embarked    0\n",
            "dtype: int64\n"
          ]
        }
      ]
    },
    {
      "cell_type": "code",
      "source": [
        "logr = LogisticRegression(max_iter=1000)\n",
        "logr.fit(X_train, y_train)\n",
        "\n",
        "# model = LogisticRegression(max_iter=1000)\n",
        "# model.fit(X_train, y_train)"
      ],
      "metadata": {
        "colab": {
          "base_uri": "https://localhost:8080/",
          "height": 74
        },
        "id": "eFw35Z6ATPJv",
        "outputId": "7036995e-3bb9-4fcc-8225-91834a9d3d9f"
      },
      "execution_count": 27,
      "outputs": [
        {
          "output_type": "execute_result",
          "data": {
            "text/plain": [
              "LogisticRegression(max_iter=1000)"
            ],
            "text/html": [
              "<style>#sk-container-id-1 {color: black;background-color: white;}#sk-container-id-1 pre{padding: 0;}#sk-container-id-1 div.sk-toggleable {background-color: white;}#sk-container-id-1 label.sk-toggleable__label {cursor: pointer;display: block;width: 100%;margin-bottom: 0;padding: 0.3em;box-sizing: border-box;text-align: center;}#sk-container-id-1 label.sk-toggleable__label-arrow:before {content: \"▸\";float: left;margin-right: 0.25em;color: #696969;}#sk-container-id-1 label.sk-toggleable__label-arrow:hover:before {color: black;}#sk-container-id-1 div.sk-estimator:hover label.sk-toggleable__label-arrow:before {color: black;}#sk-container-id-1 div.sk-toggleable__content {max-height: 0;max-width: 0;overflow: hidden;text-align: left;background-color: #f0f8ff;}#sk-container-id-1 div.sk-toggleable__content pre {margin: 0.2em;color: black;border-radius: 0.25em;background-color: #f0f8ff;}#sk-container-id-1 input.sk-toggleable__control:checked~div.sk-toggleable__content {max-height: 200px;max-width: 100%;overflow: auto;}#sk-container-id-1 input.sk-toggleable__control:checked~label.sk-toggleable__label-arrow:before {content: \"▾\";}#sk-container-id-1 div.sk-estimator input.sk-toggleable__control:checked~label.sk-toggleable__label {background-color: #d4ebff;}#sk-container-id-1 div.sk-label input.sk-toggleable__control:checked~label.sk-toggleable__label {background-color: #d4ebff;}#sk-container-id-1 input.sk-hidden--visually {border: 0;clip: rect(1px 1px 1px 1px);clip: rect(1px, 1px, 1px, 1px);height: 1px;margin: -1px;overflow: hidden;padding: 0;position: absolute;width: 1px;}#sk-container-id-1 div.sk-estimator {font-family: monospace;background-color: #f0f8ff;border: 1px dotted black;border-radius: 0.25em;box-sizing: border-box;margin-bottom: 0.5em;}#sk-container-id-1 div.sk-estimator:hover {background-color: #d4ebff;}#sk-container-id-1 div.sk-parallel-item::after {content: \"\";width: 100%;border-bottom: 1px solid gray;flex-grow: 1;}#sk-container-id-1 div.sk-label:hover label.sk-toggleable__label {background-color: #d4ebff;}#sk-container-id-1 div.sk-serial::before {content: \"\";position: absolute;border-left: 1px solid gray;box-sizing: border-box;top: 0;bottom: 0;left: 50%;z-index: 0;}#sk-container-id-1 div.sk-serial {display: flex;flex-direction: column;align-items: center;background-color: white;padding-right: 0.2em;padding-left: 0.2em;position: relative;}#sk-container-id-1 div.sk-item {position: relative;z-index: 1;}#sk-container-id-1 div.sk-parallel {display: flex;align-items: stretch;justify-content: center;background-color: white;position: relative;}#sk-container-id-1 div.sk-item::before, #sk-container-id-1 div.sk-parallel-item::before {content: \"\";position: absolute;border-left: 1px solid gray;box-sizing: border-box;top: 0;bottom: 0;left: 50%;z-index: -1;}#sk-container-id-1 div.sk-parallel-item {display: flex;flex-direction: column;z-index: 1;position: relative;background-color: white;}#sk-container-id-1 div.sk-parallel-item:first-child::after {align-self: flex-end;width: 50%;}#sk-container-id-1 div.sk-parallel-item:last-child::after {align-self: flex-start;width: 50%;}#sk-container-id-1 div.sk-parallel-item:only-child::after {width: 0;}#sk-container-id-1 div.sk-dashed-wrapped {border: 1px dashed gray;margin: 0 0.4em 0.5em 0.4em;box-sizing: border-box;padding-bottom: 0.4em;background-color: white;}#sk-container-id-1 div.sk-label label {font-family: monospace;font-weight: bold;display: inline-block;line-height: 1.2em;}#sk-container-id-1 div.sk-label-container {text-align: center;}#sk-container-id-1 div.sk-container {/* jupyter's `normalize.less` sets `[hidden] { display: none; }` but bootstrap.min.css set `[hidden] { display: none !important; }` so we also need the `!important` here to be able to override the default hidden behavior on the sphinx rendered scikit-learn.org. See: https://github.com/scikit-learn/scikit-learn/issues/21755 */display: inline-block !important;position: relative;}#sk-container-id-1 div.sk-text-repr-fallback {display: none;}</style><div id=\"sk-container-id-1\" class=\"sk-top-container\"><div class=\"sk-text-repr-fallback\"><pre>LogisticRegression(max_iter=1000)</pre><b>In a Jupyter environment, please rerun this cell to show the HTML representation or trust the notebook. <br />On GitHub, the HTML representation is unable to render, please try loading this page with nbviewer.org.</b></div><div class=\"sk-container\" hidden><div class=\"sk-item\"><div class=\"sk-estimator sk-toggleable\"><input class=\"sk-toggleable__control sk-hidden--visually\" id=\"sk-estimator-id-1\" type=\"checkbox\" checked><label for=\"sk-estimator-id-1\" class=\"sk-toggleable__label sk-toggleable__label-arrow\">LogisticRegression</label><div class=\"sk-toggleable__content\"><pre>LogisticRegression(max_iter=1000)</pre></div></div></div></div></div>"
            ]
          },
          "metadata": {},
          "execution_count": 27
        }
      ]
    },
    {
      "cell_type": "code",
      "source": [
        "\n",
        "print(\"Training data of x:\\n\",X_train)\n",
        "print(\"Testing data of x:\\n\",X_test)\n",
        "print(\"Training data of y:\\n\",y_train)\n",
        "print(\"Testing data of y \\n\",y_test)"
      ],
      "metadata": {
        "id": "DJUezdWzTUcP",
        "colab": {
          "base_uri": "https://localhost:8080/"
        },
        "outputId": "7775f0fc-5d56-4f91-d160-05e1f2017e92"
      },
      "execution_count": 28,
      "outputs": [
        {
          "output_type": "stream",
          "name": "stdout",
          "text": [
            "Training data of x:\n",
            "      Pclass  Sex       Age  SibSp  Parch     Fare  Embarked\n",
            "383       3    0  19.00000      1      0  16.1000         2\n",
            "380       3    1  30.27259      0      0   7.7500         1\n",
            "27        3    1  22.50000      0      0   7.2250         0\n",
            "89        2    1   2.00000      1      1  23.0000         2\n",
            "326       2    0  12.00000      2      1  39.0000         2\n",
            "..      ...  ...       ...    ...    ...      ...       ...\n",
            "255       3    1  30.27259      0      0   7.5500         2\n",
            "72        3    0  29.00000      0      0   7.9250         2\n",
            "396       3    1  24.00000      0      0   7.2500         1\n",
            "235       3    1  20.00000      0      0   7.8542         2\n",
            "37        3    0  21.00000      0      0   8.6625         2\n",
            "\n",
            "[292 rows x 7 columns]\n",
            "Testing data of x:\n",
            "      Pclass  Sex       Age  SibSp  Parch     Fare  Embarked\n",
            "358       3    1  30.27259      0      0   7.7500         1\n",
            "164       2    1  41.00000      0      0  13.0000         2\n",
            "17        3    1  21.00000      0      0   7.2250         0\n",
            "67        1    1  47.00000      0      0  42.4000         2\n",
            "4         3    0  22.00000      1      1  12.2875         2\n",
            "..      ...  ...       ...    ...    ...      ...       ...\n",
            "392       3    1  13.00000      0      2  20.2500         2\n",
            "367       3    0  22.00000      0      0  39.6875         2\n",
            "273       3    0  30.27259      1      0  15.5000         1\n",
            "300       3    1  32.00000      0      0   7.7750         2\n",
            "82        1    1  49.00000      0      0  26.0000         2\n",
            "\n",
            "[126 rows x 7 columns]\n",
            "Training data of y:\n",
            " 383    1\n",
            "380    0\n",
            "27     0\n",
            "89     0\n",
            "326    1\n",
            "      ..\n",
            "255    0\n",
            "72     1\n",
            "396    0\n",
            "235    0\n",
            "37     1\n",
            "Name: Survived, Length: 292, dtype: int64\n",
            "Testing data of y \n",
            " 358    0\n",
            "164    0\n",
            "17     0\n",
            "67     0\n",
            "4      1\n",
            "      ..\n",
            "392    0\n",
            "367    1\n",
            "273    1\n",
            "300    0\n",
            "82     0\n",
            "Name: Survived, Length: 126, dtype: int64\n"
          ]
        }
      ]
    },
    {
      "cell_type": "code",
      "source": [
        "#Model trained or fitted\n",
        "print(\"Model Fitting:\\n\")\n",
        "logr.fit(X_train,y_train)"
      ],
      "metadata": {
        "colab": {
          "base_uri": "https://localhost:8080/",
          "height": 111
        },
        "id": "onEHQE24_5cT",
        "outputId": "218e569a-9baf-4088-b3b7-437cf5c8cf37"
      },
      "execution_count": 29,
      "outputs": [
        {
          "output_type": "stream",
          "name": "stdout",
          "text": [
            "Model Fitting:\n",
            "\n"
          ]
        },
        {
          "output_type": "execute_result",
          "data": {
            "text/plain": [
              "LogisticRegression(max_iter=1000)"
            ],
            "text/html": [
              "<style>#sk-container-id-2 {color: black;background-color: white;}#sk-container-id-2 pre{padding: 0;}#sk-container-id-2 div.sk-toggleable {background-color: white;}#sk-container-id-2 label.sk-toggleable__label {cursor: pointer;display: block;width: 100%;margin-bottom: 0;padding: 0.3em;box-sizing: border-box;text-align: center;}#sk-container-id-2 label.sk-toggleable__label-arrow:before {content: \"▸\";float: left;margin-right: 0.25em;color: #696969;}#sk-container-id-2 label.sk-toggleable__label-arrow:hover:before {color: black;}#sk-container-id-2 div.sk-estimator:hover label.sk-toggleable__label-arrow:before {color: black;}#sk-container-id-2 div.sk-toggleable__content {max-height: 0;max-width: 0;overflow: hidden;text-align: left;background-color: #f0f8ff;}#sk-container-id-2 div.sk-toggleable__content pre {margin: 0.2em;color: black;border-radius: 0.25em;background-color: #f0f8ff;}#sk-container-id-2 input.sk-toggleable__control:checked~div.sk-toggleable__content {max-height: 200px;max-width: 100%;overflow: auto;}#sk-container-id-2 input.sk-toggleable__control:checked~label.sk-toggleable__label-arrow:before {content: \"▾\";}#sk-container-id-2 div.sk-estimator input.sk-toggleable__control:checked~label.sk-toggleable__label {background-color: #d4ebff;}#sk-container-id-2 div.sk-label input.sk-toggleable__control:checked~label.sk-toggleable__label {background-color: #d4ebff;}#sk-container-id-2 input.sk-hidden--visually {border: 0;clip: rect(1px 1px 1px 1px);clip: rect(1px, 1px, 1px, 1px);height: 1px;margin: -1px;overflow: hidden;padding: 0;position: absolute;width: 1px;}#sk-container-id-2 div.sk-estimator {font-family: monospace;background-color: #f0f8ff;border: 1px dotted black;border-radius: 0.25em;box-sizing: border-box;margin-bottom: 0.5em;}#sk-container-id-2 div.sk-estimator:hover {background-color: #d4ebff;}#sk-container-id-2 div.sk-parallel-item::after {content: \"\";width: 100%;border-bottom: 1px solid gray;flex-grow: 1;}#sk-container-id-2 div.sk-label:hover label.sk-toggleable__label {background-color: #d4ebff;}#sk-container-id-2 div.sk-serial::before {content: \"\";position: absolute;border-left: 1px solid gray;box-sizing: border-box;top: 0;bottom: 0;left: 50%;z-index: 0;}#sk-container-id-2 div.sk-serial {display: flex;flex-direction: column;align-items: center;background-color: white;padding-right: 0.2em;padding-left: 0.2em;position: relative;}#sk-container-id-2 div.sk-item {position: relative;z-index: 1;}#sk-container-id-2 div.sk-parallel {display: flex;align-items: stretch;justify-content: center;background-color: white;position: relative;}#sk-container-id-2 div.sk-item::before, #sk-container-id-2 div.sk-parallel-item::before {content: \"\";position: absolute;border-left: 1px solid gray;box-sizing: border-box;top: 0;bottom: 0;left: 50%;z-index: -1;}#sk-container-id-2 div.sk-parallel-item {display: flex;flex-direction: column;z-index: 1;position: relative;background-color: white;}#sk-container-id-2 div.sk-parallel-item:first-child::after {align-self: flex-end;width: 50%;}#sk-container-id-2 div.sk-parallel-item:last-child::after {align-self: flex-start;width: 50%;}#sk-container-id-2 div.sk-parallel-item:only-child::after {width: 0;}#sk-container-id-2 div.sk-dashed-wrapped {border: 1px dashed gray;margin: 0 0.4em 0.5em 0.4em;box-sizing: border-box;padding-bottom: 0.4em;background-color: white;}#sk-container-id-2 div.sk-label label {font-family: monospace;font-weight: bold;display: inline-block;line-height: 1.2em;}#sk-container-id-2 div.sk-label-container {text-align: center;}#sk-container-id-2 div.sk-container {/* jupyter's `normalize.less` sets `[hidden] { display: none; }` but bootstrap.min.css set `[hidden] { display: none !important; }` so we also need the `!important` here to be able to override the default hidden behavior on the sphinx rendered scikit-learn.org. See: https://github.com/scikit-learn/scikit-learn/issues/21755 */display: inline-block !important;position: relative;}#sk-container-id-2 div.sk-text-repr-fallback {display: none;}</style><div id=\"sk-container-id-2\" class=\"sk-top-container\"><div class=\"sk-text-repr-fallback\"><pre>LogisticRegression(max_iter=1000)</pre><b>In a Jupyter environment, please rerun this cell to show the HTML representation or trust the notebook. <br />On GitHub, the HTML representation is unable to render, please try loading this page with nbviewer.org.</b></div><div class=\"sk-container\" hidden><div class=\"sk-item\"><div class=\"sk-estimator sk-toggleable\"><input class=\"sk-toggleable__control sk-hidden--visually\" id=\"sk-estimator-id-2\" type=\"checkbox\" checked><label for=\"sk-estimator-id-2\" class=\"sk-toggleable__label sk-toggleable__label-arrow\">LogisticRegression</label><div class=\"sk-toggleable__content\"><pre>LogisticRegression(max_iter=1000)</pre></div></div></div></div></div>"
            ]
          },
          "metadata": {},
          "execution_count": 29
        }
      ]
    },
    {
      "cell_type": "code",
      "source": [
        "#predicting\n",
        "print(\"Model Predicting:\\n\")\n",
        "y_pred=logr.predict(X_test)"
      ],
      "metadata": {
        "colab": {
          "base_uri": "https://localhost:8080/"
        },
        "id": "iTtIjAmM_9Dy",
        "outputId": "22d055dc-6e90-45fc-ed26-e93aafa6414d"
      },
      "execution_count": 30,
      "outputs": [
        {
          "output_type": "stream",
          "name": "stdout",
          "text": [
            "Model Predicting:\n",
            "\n"
          ]
        }
      ]
    },
    {
      "cell_type": "code",
      "source": [
        "print(\"Coefficients:\\n\",logr.coef_)\n",
        "print(\"Intercepts:\\n\",logr.intercept_)"
      ],
      "metadata": {
        "colab": {
          "base_uri": "https://localhost:8080/"
        },
        "id": "BgASu663__yS",
        "outputId": "ec674ce2-b76d-43e3-d7c1-4d7a9f7b3535"
      },
      "execution_count": 31,
      "outputs": [
        {
          "output_type": "stream",
          "name": "stdout",
          "text": [
            "Coefficients:\n",
            " [[-4.01305653e-02 -6.12521243e+00 -7.82691532e-04  3.94519875e-02\n",
            "   8.76213678e-02  3.07230245e-03 -1.11111725e-02]]\n",
            "Intercepts:\n",
            " [2.75339519]\n"
          ]
        }
      ]
    },
    {
      "cell_type": "code",
      "source": [
        "print(\"Accuracy_score:\\n\",accuracy_score(y_test,y_pred))\n",
        "print(\"Classification_report:\\n\",classification_report(y_test,y_pred))\n",
        "print(\"Confusion matrix:\\n\",confusion_matrix(y_test,y_pred))"
      ],
      "metadata": {
        "colab": {
          "base_uri": "https://localhost:8080/"
        },
        "id": "_HXBwjMrADVC",
        "outputId": "63fc2510-5b83-41fd-9de1-181f06c738b0"
      },
      "execution_count": 32,
      "outputs": [
        {
          "output_type": "stream",
          "name": "stdout",
          "text": [
            "Accuracy_score:\n",
            " 1.0\n",
            "Classification_report:\n",
            "               precision    recall  f1-score   support\n",
            "\n",
            "           0       1.00      1.00      1.00        85\n",
            "           1       1.00      1.00      1.00        41\n",
            "\n",
            "    accuracy                           1.00       126\n",
            "   macro avg       1.00      1.00      1.00       126\n",
            "weighted avg       1.00      1.00      1.00       126\n",
            "\n",
            "Confusion matrix:\n",
            " [[85  0]\n",
            " [ 0 41]]\n"
          ]
        }
      ]
    }
  ]
}