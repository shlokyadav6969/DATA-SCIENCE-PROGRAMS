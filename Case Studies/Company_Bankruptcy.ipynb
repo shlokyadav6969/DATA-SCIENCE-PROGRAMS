{
  "nbformat": 4,
  "nbformat_minor": 0,
  "metadata": {
    "colab": {
      "provenance": [],
      "authorship_tag": "ABX9TyN0qMiJV+7ERBR7UL1P7jTU",
      "include_colab_link": true
    },
    "kernelspec": {
      "name": "python3",
      "display_name": "Python 3"
    },
    "language_info": {
      "name": "python"
    }
  },
  "cells": [
    {
      "cell_type": "markdown",
      "metadata": {
        "id": "view-in-github",
        "colab_type": "text"
      },
      "source": [
        "<a href=\"https://colab.research.google.com/github/YashKerkar211/Data-Science-Programs/blob/main/Case%20Studies/Company%20Bankruptcy%20Prediction/Company_Bankruptcy.ipynb\" target=\"_parent\"><img src=\"https://colab.research.google.com/assets/colab-badge.svg\" alt=\"Open In Colab\"/></a>"
      ]
    },
    {
      "cell_type": "code",
      "execution_count": 13,
      "metadata": {
        "id": "knhrhBzrPGOL"
      },
      "outputs": [],
      "source": [
        "import pandas as pd\n",
        "from sklearn.linear_model import LogisticRegression\n",
        "from sklearn.model_selection import train_test_split\n",
        "from sklearn.metrics import accuracy_score\n",
        "from sklearn.metrics import classification_report\n",
        "from sklearn.metrics import confusion_matrix\n",
        "from sklearn.impute import SimpleImputer"
      ]
    },
    {
      "cell_type": "code",
      "source": [
        "logr=LogisticRegression()"
      ],
      "metadata": {
        "id": "AtU1D4adP1HI"
      },
      "execution_count": 14,
      "outputs": []
    },
    {
      "cell_type": "code",
      "source": [
        "pd.set_option('display.max_rows',None)\n",
        "pd.set_option('display.max_columns',None)\n",
        "print(df.isnull().sum())"
      ],
      "metadata": {
        "colab": {
          "base_uri": "https://localhost:8080/"
        },
        "id": "rezh1KNIP_Ar",
        "outputId": "13fb0642-860e-4e24-c598-e97badb9183e"
      },
      "execution_count": 16,
      "outputs": [
        {
          "output_type": "stream",
          "name": "stdout",
          "text": [
            "Bankrupt?                                                   0\n",
            " ROA(C) before interest and depreciation before interest    0\n",
            " ROA(A) before interest and % after tax                     0\n",
            " ROA(B) before interest and depreciation after tax          0\n",
            " Operating Gross Margin                                     0\n",
            " Realized Sales Gross Margin                                0\n",
            " Operating Profit Rate                                      0\n",
            " Pre-tax net Interest Rate                                  0\n",
            " After-tax net Interest Rate                                0\n",
            " Non-industry income and expenditure/revenue                0\n",
            " Continuous interest rate (after tax)                       0\n",
            " Operating Expense Rate                                     0\n",
            " Research and development expense rate                      0\n",
            " Cash flow rate                                             0\n",
            " Interest-bearing debt interest rate                        0\n",
            " Tax rate (A)                                               0\n",
            " Net Value Per Share (B)                                    0\n",
            " Net Value Per Share (A)                                    0\n",
            " Net Value Per Share (C)                                    0\n",
            " Persistent EPS in the Last Four Seasons                    0\n",
            " Cash Flow Per Share                                        0\n",
            " Revenue Per Share (Yuan ¥)                                 0\n",
            " Operating Profit Per Share (Yuan ¥)                        0\n",
            " Per Share Net profit before tax (Yuan ¥)                   0\n",
            " Realized Sales Gross Profit Growth Rate                    0\n",
            " Operating Profit Growth Rate                               0\n",
            " After-tax Net Profit Growth Rate                           0\n",
            " Regular Net Profit Growth Rate                             0\n",
            " Continuous Net Profit Growth Rate                          0\n",
            " Total Asset Growth Rate                                    0\n",
            " Net Value Growth Rate                                      0\n",
            " Total Asset Return Growth Rate Ratio                       0\n",
            " Cash Reinvestment %                                        0\n",
            " Current Ratio                                              0\n",
            " Quick Ratio                                                0\n",
            " Interest Expense Ratio                                     0\n",
            " Total debt/Total net worth                                 0\n",
            " Debt ratio %                                               0\n",
            " Net worth/Assets                                           0\n",
            " Long-term fund suitability ratio (A)                       0\n",
            " Borrowing dependency                                       0\n",
            " Contingent liabilities/Net worth                           0\n",
            " Operating profit/Paid-in capital                           0\n",
            " Net profit before tax/Paid-in capital                      0\n",
            " Inventory and accounts receivable/Net value                0\n",
            " Total Asset Turnover                                       0\n",
            " Accounts Receivable Turnover                               0\n",
            " Average Collection Days                                    0\n",
            " Inventory Turnover Rate (times)                            0\n",
            " Fixed Assets Turnover Frequency                            0\n",
            " Net Worth Turnover Rate (times)                            0\n",
            " Revenue per person                                         0\n",
            " Operating profit per person                                0\n",
            " Allocation rate per person                                 0\n",
            " Working Capital to Total Assets                            0\n",
            " Quick Assets/Total Assets                                  0\n",
            " Current Assets/Total Assets                                0\n",
            " Cash/Total Assets                                          0\n",
            " Quick Assets/Current Liability                             0\n",
            " Cash/Current Liability                                     0\n",
            " Current Liability to Assets                                0\n",
            " Operating Funds to Liability                               0\n",
            " Inventory/Working Capital                                  0\n",
            " Inventory/Current Liability                                0\n",
            " Current Liabilities/Liability                              0\n",
            " Working Capital/Equity                                     0\n",
            " Current Liabilities/Equity                                 0\n",
            " Long-term Liability to Current Assets                      0\n",
            " Retained Earnings to Total Assets                          0\n",
            " Total income/Total expense                                 0\n",
            " Total expense/Assets                                       0\n",
            " Current Asset Turnover Rate                                0\n",
            " Quick Asset Turnover Rate                                  0\n",
            " Working capitcal Turnover Rate                             0\n",
            " Cash Turnover Rate                                         0\n",
            " Cash Flow to Sales                                         0\n",
            " Fixed Assets to Assets                                     0\n",
            " Current Liability to Liability                             0\n",
            " Current Liability to Equity                                0\n",
            " Equity to Long-term Liability                              0\n",
            " Cash Flow to Total Assets                                  0\n",
            " Cash Flow to Liability                                     0\n",
            " CFO to Assets                                              0\n",
            " Cash Flow to Equity                                        0\n",
            " Current Liability to Current Assets                        0\n",
            " Liability-Assets Flag                                      0\n",
            " Net Income to Total Assets                                 0\n",
            " Total assets to GNP price                                  0\n",
            " No-credit Interval                                         0\n",
            " Gross Profit to Sales                                      0\n",
            " Net Income to Stockholder's Equity                         0\n",
            " Liability to Equity                                        0\n",
            " Degree of Financial Leverage (DFL)                         0\n",
            " Interest Coverage Ratio (Interest expense to EBIT)         0\n",
            " Net Income Flag                                            0\n",
            " Equity to Liability                                        0\n",
            "dtype: int64\n"
          ]
        }
      ]
    },
    {
      "cell_type": "code",
      "source": [
        "import pandas as pd\n",
        "df_filled = df.fillna(0)\n",
        "df.fillna(0, inplace=True)"
      ],
      "metadata": {
        "id": "CFksoAUzQUSO"
      },
      "execution_count": null,
      "outputs": []
    },
    {
      "cell_type": "code",
      "source": [
        "print(df.isnull().sum())"
      ],
      "metadata": {
        "colab": {
          "base_uri": "https://localhost:8080/"
        },
        "id": "C5cOz0YgSOlt",
        "outputId": "b6a89c75-25c7-4602-8741-0d0b249a8b0e"
      },
      "execution_count": 17,
      "outputs": [
        {
          "output_type": "stream",
          "name": "stdout",
          "text": [
            "Bankrupt?                                                   0\n",
            " ROA(C) before interest and depreciation before interest    0\n",
            " ROA(A) before interest and % after tax                     0\n",
            " ROA(B) before interest and depreciation after tax          0\n",
            " Operating Gross Margin                                     0\n",
            " Realized Sales Gross Margin                                0\n",
            " Operating Profit Rate                                      0\n",
            " Pre-tax net Interest Rate                                  0\n",
            " After-tax net Interest Rate                                0\n",
            " Non-industry income and expenditure/revenue                0\n",
            " Continuous interest rate (after tax)                       0\n",
            " Operating Expense Rate                                     0\n",
            " Research and development expense rate                      0\n",
            " Cash flow rate                                             0\n",
            " Interest-bearing debt interest rate                        0\n",
            " Tax rate (A)                                               0\n",
            " Net Value Per Share (B)                                    0\n",
            " Net Value Per Share (A)                                    0\n",
            " Net Value Per Share (C)                                    0\n",
            " Persistent EPS in the Last Four Seasons                    0\n",
            " Cash Flow Per Share                                        0\n",
            " Revenue Per Share (Yuan ¥)                                 0\n",
            " Operating Profit Per Share (Yuan ¥)                        0\n",
            " Per Share Net profit before tax (Yuan ¥)                   0\n",
            " Realized Sales Gross Profit Growth Rate                    0\n",
            " Operating Profit Growth Rate                               0\n",
            " After-tax Net Profit Growth Rate                           0\n",
            " Regular Net Profit Growth Rate                             0\n",
            " Continuous Net Profit Growth Rate                          0\n",
            " Total Asset Growth Rate                                    0\n",
            " Net Value Growth Rate                                      0\n",
            " Total Asset Return Growth Rate Ratio                       0\n",
            " Cash Reinvestment %                                        0\n",
            " Current Ratio                                              0\n",
            " Quick Ratio                                                0\n",
            " Interest Expense Ratio                                     0\n",
            " Total debt/Total net worth                                 0\n",
            " Debt ratio %                                               0\n",
            " Net worth/Assets                                           0\n",
            " Long-term fund suitability ratio (A)                       0\n",
            " Borrowing dependency                                       0\n",
            " Contingent liabilities/Net worth                           0\n",
            " Operating profit/Paid-in capital                           0\n",
            " Net profit before tax/Paid-in capital                      0\n",
            " Inventory and accounts receivable/Net value                0\n",
            " Total Asset Turnover                                       0\n",
            " Accounts Receivable Turnover                               0\n",
            " Average Collection Days                                    0\n",
            " Inventory Turnover Rate (times)                            0\n",
            " Fixed Assets Turnover Frequency                            0\n",
            " Net Worth Turnover Rate (times)                            0\n",
            " Revenue per person                                         0\n",
            " Operating profit per person                                0\n",
            " Allocation rate per person                                 0\n",
            " Working Capital to Total Assets                            0\n",
            " Quick Assets/Total Assets                                  0\n",
            " Current Assets/Total Assets                                0\n",
            " Cash/Total Assets                                          0\n",
            " Quick Assets/Current Liability                             0\n",
            " Cash/Current Liability                                     0\n",
            " Current Liability to Assets                                0\n",
            " Operating Funds to Liability                               0\n",
            " Inventory/Working Capital                                  0\n",
            " Inventory/Current Liability                                0\n",
            " Current Liabilities/Liability                              0\n",
            " Working Capital/Equity                                     0\n",
            " Current Liabilities/Equity                                 0\n",
            " Long-term Liability to Current Assets                      0\n",
            " Retained Earnings to Total Assets                          0\n",
            " Total income/Total expense                                 0\n",
            " Total expense/Assets                                       0\n",
            " Current Asset Turnover Rate                                0\n",
            " Quick Asset Turnover Rate                                  0\n",
            " Working capitcal Turnover Rate                             0\n",
            " Cash Turnover Rate                                         0\n",
            " Cash Flow to Sales                                         0\n",
            " Fixed Assets to Assets                                     0\n",
            " Current Liability to Liability                             0\n",
            " Current Liability to Equity                                0\n",
            " Equity to Long-term Liability                              0\n",
            " Cash Flow to Total Assets                                  0\n",
            " Cash Flow to Liability                                     0\n",
            " CFO to Assets                                              0\n",
            " Cash Flow to Equity                                        0\n",
            " Current Liability to Current Assets                        0\n",
            " Liability-Assets Flag                                      0\n",
            " Net Income to Total Assets                                 0\n",
            " Total assets to GNP price                                  0\n",
            " No-credit Interval                                         0\n",
            " Gross Profit to Sales                                      0\n",
            " Net Income to Stockholder's Equity                         0\n",
            " Liability to Equity                                        0\n",
            " Degree of Financial Leverage (DFL)                         0\n",
            " Interest Coverage Ratio (Interest expense to EBIT)         0\n",
            " Net Income Flag                                            0\n",
            " Equity to Liability                                        0\n",
            "dtype: int64\n"
          ]
        }
      ]
    },
    {
      "cell_type": "code",
      "source": [
        "# Separate features (X) and target variable (y)\n",
        "X = df.drop('Bankrupt?', axis=1)\n",
        "y = df['Bankrupt?']"
      ],
      "metadata": {
        "id": "flD_pSlWZIFX"
      },
      "execution_count": 18,
      "outputs": []
    },
    {
      "cell_type": "code",
      "source": [
        "X_train, X_test, y_train, y_test = train_test_split(X, y, test_size=0.3, random_state=1)\n",
        "\n",
        "print(\"Features:\\n\")\n",
        "print(X.head())\n",
        "\n",
        "print(\"Target\\n\")\n",
        "print(y.head())"
      ],
      "metadata": {
        "colab": {
          "base_uri": "https://localhost:8080/"
        },
        "id": "p4w2is39ZZPp",
        "outputId": "5a67e9c4-0c0d-477b-d1da-9a73285377b1"
      },
      "execution_count": 19,
      "outputs": [
        {
          "output_type": "stream",
          "name": "stdout",
          "text": [
            "Features:\n",
            "\n",
            "    ROA(C) before interest and depreciation before interest  \\\n",
            "0                                           0.370594          \n",
            "1                                           0.464291          \n",
            "2                                           0.426071          \n",
            "3                                           0.399844          \n",
            "4                                           0.465022          \n",
            "\n",
            "    ROA(A) before interest and % after tax  \\\n",
            "0                                 0.424389   \n",
            "1                                 0.538214   \n",
            "2                                 0.499019   \n",
            "3                                 0.451265   \n",
            "4                                 0.538432   \n",
            "\n",
            "    ROA(B) before interest and depreciation after tax  \\\n",
            "0                                           0.405750    \n",
            "1                                           0.516730    \n",
            "2                                           0.472295    \n",
            "3                                           0.457733    \n",
            "4                                           0.522298    \n",
            "\n",
            "    Operating Gross Margin   Realized Sales Gross Margin  \\\n",
            "0                 0.601457                      0.601457   \n",
            "1                 0.610235                      0.610235   \n",
            "2                 0.601450                      0.601364   \n",
            "3                 0.583541                      0.583541   \n",
            "4                 0.598783                      0.598783   \n",
            "\n",
            "    Operating Profit Rate   Pre-tax net Interest Rate  \\\n",
            "0                0.998969                    0.796887   \n",
            "1                0.998946                    0.797380   \n",
            "2                0.998857                    0.796403   \n",
            "3                0.998700                    0.796967   \n",
            "4                0.998973                    0.797366   \n",
            "\n",
            "    After-tax net Interest Rate   Non-industry income and expenditure/revenue  \\\n",
            "0                      0.808809                                      0.302646   \n",
            "1                      0.809301                                      0.303556   \n",
            "2                      0.808388                                      0.302035   \n",
            "3                      0.808966                                      0.303350   \n",
            "4                      0.809304                                      0.303475   \n",
            "\n",
            "    Continuous interest rate (after tax)   Operating Expense Rate  \\\n",
            "0                               0.780985             1.256969e-04   \n",
            "1                               0.781506             2.897851e-04   \n",
            "2                               0.780284             2.361297e-04   \n",
            "3                               0.781241             1.078888e-04   \n",
            "4                               0.781550             7.890000e+09   \n",
            "\n",
            "    Research and development expense rate   Cash flow rate  \\\n",
            "0                                     0.0         0.458143   \n",
            "1                                     0.0         0.461867   \n",
            "2                              25500000.0         0.458521   \n",
            "3                                     0.0         0.465705   \n",
            "4                                     0.0         0.462746   \n",
            "\n",
            "    Interest-bearing debt interest rate   Tax rate (A)  \\\n",
            "0                              0.000725            0.0   \n",
            "1                              0.000647            0.0   \n",
            "2                              0.000790            0.0   \n",
            "3                              0.000449            0.0   \n",
            "4                              0.000686            0.0   \n",
            "\n",
            "    Net Value Per Share (B)   Net Value Per Share (A)  \\\n",
            "0                  0.147950                  0.147950   \n",
            "1                  0.182251                  0.182251   \n",
            "2                  0.177911                  0.177911   \n",
            "3                  0.154187                  0.154187   \n",
            "4                  0.167502                  0.167502   \n",
            "\n",
            "    Net Value Per Share (C)   Persistent EPS in the Last Four Seasons  \\\n",
            "0                  0.147950                                  0.169141   \n",
            "1                  0.182251                                  0.208944   \n",
            "2                  0.193713                                  0.180581   \n",
            "3                  0.154187                                  0.193722   \n",
            "4                  0.167502                                  0.212537   \n",
            "\n",
            "    Cash Flow Per Share   Revenue Per Share (Yuan ¥)  \\\n",
            "0              0.311664                     0.017560   \n",
            "1              0.318137                     0.021144   \n",
            "2              0.307102                     0.005944   \n",
            "3              0.321674                     0.014368   \n",
            "4              0.319162                     0.029690   \n",
            "\n",
            "    Operating Profit Per Share (Yuan ¥)  \\\n",
            "0                              0.095921   \n",
            "1                              0.093722   \n",
            "2                              0.092338   \n",
            "3                              0.077762   \n",
            "4                              0.096898   \n",
            "\n",
            "    Per Share Net profit before tax (Yuan ¥)  \\\n",
            "0                                   0.138736   \n",
            "1                                   0.169918   \n",
            "2                                   0.142803   \n",
            "3                                   0.148603   \n",
            "4                                   0.168412   \n",
            "\n",
            "    Realized Sales Gross Profit Growth Rate   Operating Profit Growth Rate  \\\n",
            "0                                  0.022102                       0.848195   \n",
            "1                                  0.022080                       0.848088   \n",
            "2                                  0.022760                       0.848094   \n",
            "3                                  0.022046                       0.848005   \n",
            "4                                  0.022096                       0.848258   \n",
            "\n",
            "    After-tax Net Profit Growth Rate   Regular Net Profit Growth Rate  \\\n",
            "0                           0.688979                         0.688979   \n",
            "1                           0.689693                         0.689702   \n",
            "2                           0.689463                         0.689470   \n",
            "3                           0.689110                         0.689110   \n",
            "4                           0.689697                         0.689697   \n",
            "\n",
            "    Continuous Net Profit Growth Rate   Total Asset Growth Rate  \\\n",
            "0                            0.217535              4.980000e+09   \n",
            "1                            0.217620              6.110000e+09   \n",
            "2                            0.217601              7.280000e+09   \n",
            "3                            0.217568              4.880000e+09   \n",
            "4                            0.217626              5.510000e+09   \n",
            "\n",
            "    Net Value Growth Rate   Total Asset Return Growth Rate Ratio  \\\n",
            "0                0.000327                               0.263100   \n",
            "1                0.000443                               0.264516   \n",
            "2                0.000396                               0.264184   \n",
            "3                0.000382                               0.263371   \n",
            "4                0.000439                               0.265218   \n",
            "\n",
            "    Cash Reinvestment %   Current Ratio   Quick Ratio  \\\n",
            "0              0.363725        0.002259      0.001208   \n",
            "1              0.376709        0.006016      0.004039   \n",
            "2              0.368913        0.011543      0.005348   \n",
            "3              0.384077        0.004194      0.002896   \n",
            "4              0.379690        0.006022      0.003727   \n",
            "\n",
            "    Interest Expense Ratio   Total debt/Total net worth   Debt ratio %  \\\n",
            "0                 0.629951                     0.021266       0.207576   \n",
            "1                 0.635172                     0.012502       0.171176   \n",
            "2                 0.629631                     0.021248       0.207516   \n",
            "3                 0.630228                     0.009572       0.151465   \n",
            "4                 0.636055                     0.005150       0.106509   \n",
            "\n",
            "    Net worth/Assets   Long-term fund suitability ratio (A)  \\\n",
            "0           0.792424                               0.005024   \n",
            "1           0.828824                               0.005059   \n",
            "2           0.792484                               0.005100   \n",
            "3           0.848535                               0.005047   \n",
            "4           0.893491                               0.005303   \n",
            "\n",
            "    Borrowing dependency   Contingent liabilities/Net worth  \\\n",
            "0               0.390284                           0.006479   \n",
            "1               0.376760                           0.005835   \n",
            "2               0.379093                           0.006562   \n",
            "3               0.379743                           0.005366   \n",
            "4               0.375025                           0.006624   \n",
            "\n",
            "    Operating profit/Paid-in capital   Net profit before tax/Paid-in capital  \\\n",
            "0                           0.095885                                0.137757   \n",
            "1                           0.093743                                0.168962   \n",
            "2                           0.092318                                0.148036   \n",
            "3                           0.077727                                0.147561   \n",
            "4                           0.096927                                0.167461   \n",
            "\n",
            "    Inventory and accounts receivable/Net value   Total Asset Turnover  \\\n",
            "0                                      0.398036               0.086957   \n",
            "1                                      0.397725               0.064468   \n",
            "2                                      0.406580               0.014993   \n",
            "3                                      0.397925               0.089955   \n",
            "4                                      0.400079               0.175412   \n",
            "\n",
            "    Accounts Receivable Turnover   Average Collection Days  \\\n",
            "0                       0.001814                  0.003487   \n",
            "1                       0.001286                  0.004917   \n",
            "2                       0.001495                  0.004227   \n",
            "3                       0.001966                  0.003215   \n",
            "4                       0.001449                  0.004367   \n",
            "\n",
            "    Inventory Turnover Rate (times)   Fixed Assets Turnover Frequency  \\\n",
            "0                      1.820926e-04                      1.165007e-04   \n",
            "1                      9.360000e+09                      7.190000e+08   \n",
            "2                      6.500000e+07                      2.650000e+09   \n",
            "3                      7.130000e+09                      9.150000e+09   \n",
            "4                      1.633674e-04                      2.935211e-04   \n",
            "\n",
            "    Net Worth Turnover Rate (times)   Revenue per person  \\\n",
            "0                          0.032903             0.034164   \n",
            "1                          0.025484             0.006889   \n",
            "2                          0.013387             0.028997   \n",
            "3                          0.028065             0.015463   \n",
            "4                          0.040161             0.058111   \n",
            "\n",
            "    Operating profit per person   Allocation rate per person  \\\n",
            "0                      0.392913                     0.037135   \n",
            "1                      0.391590                     0.012335   \n",
            "2                      0.381968                     0.141016   \n",
            "3                      0.378497                     0.021320   \n",
            "4                      0.394371                     0.023988   \n",
            "\n",
            "    Working Capital to Total Assets   Quick Assets/Total Assets  \\\n",
            "0                          0.672775                    0.166673   \n",
            "1                          0.751111                    0.127236   \n",
            "2                          0.829502                    0.340201   \n",
            "3                          0.725754                    0.161575   \n",
            "4                          0.751822                    0.260330   \n",
            "\n",
            "    Current Assets/Total Assets   Cash/Total Assets  \\\n",
            "0                      0.190643            0.004094   \n",
            "1                      0.182419            0.014948   \n",
            "2                      0.602806            0.000991   \n",
            "3                      0.225815            0.018851   \n",
            "4                      0.358380            0.014161   \n",
            "\n",
            "    Quick Assets/Current Liability   Cash/Current Liability  \\\n",
            "0                         0.001997             1.473360e-04   \n",
            "1                         0.004136             1.383910e-03   \n",
            "2                         0.006302             5.340000e+09   \n",
            "3                         0.002961             1.010646e-03   \n",
            "4                         0.004275             6.804636e-04   \n",
            "\n",
            "    Current Liability to Assets   Operating Funds to Liability  \\\n",
            "0                      0.147308                       0.334015   \n",
            "1                      0.056963                       0.341106   \n",
            "2                      0.098162                       0.336731   \n",
            "3                      0.098715                       0.348716   \n",
            "4                      0.110195                       0.344639   \n",
            "\n",
            "    Inventory/Working Capital   Inventory/Current Liability  \\\n",
            "0                    0.276920                      0.001036   \n",
            "1                    0.289642                      0.005210   \n",
            "2                    0.277456                      0.013879   \n",
            "3                    0.276580                      0.003540   \n",
            "4                    0.287913                      0.004869   \n",
            "\n",
            "    Current Liabilities/Liability   Working Capital/Equity  \\\n",
            "0                        0.676269                 0.721275   \n",
            "1                        0.308589                 0.731975   \n",
            "2                        0.446027                 0.742729   \n",
            "3                        0.615848                 0.729825   \n",
            "4                        0.975007                 0.732000   \n",
            "\n",
            "    Current Liabilities/Equity   Long-term Liability to Current Assets  \\\n",
            "0                     0.339077                                0.025592   \n",
            "1                     0.329740                                0.023947   \n",
            "2                     0.334777                                0.003715   \n",
            "3                     0.331509                                0.022165   \n",
            "4                     0.330726                                0.000000   \n",
            "\n",
            "    Retained Earnings to Total Assets   Total income/Total expense  \\\n",
            "0                            0.903225                     0.002022   \n",
            "1                            0.931065                     0.002226   \n",
            "2                            0.909903                     0.002060   \n",
            "3                            0.906902                     0.001831   \n",
            "4                            0.913850                     0.002224   \n",
            "\n",
            "    Total expense/Assets   Current Asset Turnover Rate  \\\n",
            "0               0.064856                  7.010000e+08   \n",
            "1               0.025516                  1.065198e-04   \n",
            "2               0.021387                  1.791094e-03   \n",
            "3               0.024161                  8.140000e+09   \n",
            "4               0.026385                  6.680000e+09   \n",
            "\n",
            "    Quick Asset Turnover Rate   Working capitcal Turnover Rate  \\\n",
            "0                6.550000e+09                         0.593831   \n",
            "1                7.700000e+09                         0.593916   \n",
            "2                1.022676e-03                         0.594502   \n",
            "3                6.050000e+09                         0.593889   \n",
            "4                5.050000e+09                         0.593915   \n",
            "\n",
            "    Cash Turnover Rate   Cash Flow to Sales   Fixed Assets to Assets  \\\n",
            "0         4.580000e+08             0.671568                 0.424206   \n",
            "1         2.490000e+09             0.671570                 0.468828   \n",
            "2         7.610000e+08             0.671571                 0.276179   \n",
            "3         2.030000e+09             0.671519                 0.559144   \n",
            "4         8.240000e+08             0.671563                 0.309555   \n",
            "\n",
            "    Current Liability to Liability   Current Liability to Equity  \\\n",
            "0                         0.676269                      0.339077   \n",
            "1                         0.308589                      0.329740   \n",
            "2                         0.446027                      0.334777   \n",
            "3                         0.615848                      0.331509   \n",
            "4                         0.975007                      0.330726   \n",
            "\n",
            "    Equity to Long-term Liability   Cash Flow to Total Assets  \\\n",
            "0                        0.126549                    0.637555   \n",
            "1                        0.120916                    0.641100   \n",
            "2                        0.117922                    0.642765   \n",
            "3                        0.120760                    0.579039   \n",
            "4                        0.110933                    0.622374   \n",
            "\n",
            "    Cash Flow to Liability   CFO to Assets   Cash Flow to Equity  \\\n",
            "0                 0.458609        0.520382              0.312905   \n",
            "1                 0.459001        0.567101              0.314163   \n",
            "2                 0.459254        0.538491              0.314515   \n",
            "3                 0.448518        0.604105              0.302382   \n",
            "4                 0.454411        0.578469              0.311567   \n",
            "\n",
            "    Current Liability to Current Assets   Liability-Assets Flag  \\\n",
            "0                              0.118250                       0   \n",
            "1                              0.047775                       0   \n",
            "2                              0.025346                       0   \n",
            "3                              0.067250                       0   \n",
            "4                              0.047725                       0   \n",
            "\n",
            "    Net Income to Total Assets   Total assets to GNP price  \\\n",
            "0                     0.716845                    0.009219   \n",
            "1                     0.795297                    0.008323   \n",
            "2                     0.774670                    0.040003   \n",
            "3                     0.739555                    0.003252   \n",
            "4                     0.795016                    0.003878   \n",
            "\n",
            "    No-credit Interval   Gross Profit to Sales  \\\n",
            "0             0.622879                0.601453   \n",
            "1             0.623652                0.610237   \n",
            "2             0.623841                0.601449   \n",
            "3             0.622929                0.583538   \n",
            "4             0.623521                0.598782   \n",
            "\n",
            "    Net Income to Stockholder's Equity   Liability to Equity  \\\n",
            "0                             0.827890              0.290202   \n",
            "1                             0.839969              0.283846   \n",
            "2                             0.836774              0.290189   \n",
            "3                             0.834697              0.281721   \n",
            "4                             0.839973              0.278514   \n",
            "\n",
            "    Degree of Financial Leverage (DFL)  \\\n",
            "0                             0.026601   \n",
            "1                             0.264577   \n",
            "2                             0.026555   \n",
            "3                             0.026697   \n",
            "4                             0.024752   \n",
            "\n",
            "    Interest Coverage Ratio (Interest expense to EBIT)   Net Income Flag  \\\n",
            "0                                           0.564050                   1   \n",
            "1                                           0.570175                   1   \n",
            "2                                           0.563706                   1   \n",
            "3                                           0.564663                   1   \n",
            "4                                           0.575617                   1   \n",
            "\n",
            "    Equity to Liability  \n",
            "0              0.016469  \n",
            "1              0.020794  \n",
            "2              0.016474  \n",
            "3              0.023982  \n",
            "4              0.035490  \n",
            "Target\n",
            "\n",
            "0    1\n",
            "1    1\n",
            "2    1\n",
            "3    1\n",
            "4    1\n",
            "Name: Bankrupt?, dtype: int64\n"
          ]
        }
      ]
    },
    {
      "cell_type": "code",
      "source": [
        "logr=LogisticRegression()"
      ],
      "metadata": {
        "id": "pG0awitWaU65"
      },
      "execution_count": 21,
      "outputs": []
    },
    {
      "cell_type": "code",
      "source": [
        "logr = LogisticRegression(max_iter=1000)\n",
        "logr.fit(X_train, y_train)"
      ],
      "metadata": {
        "colab": {
          "base_uri": "https://localhost:8080/",
          "height": 74
        },
        "id": "dgRd10wPaaJZ",
        "outputId": "67caa450-9f44-412f-bedb-3f3addacc254"
      },
      "execution_count": 22,
      "outputs": [
        {
          "output_type": "execute_result",
          "data": {
            "text/plain": [
              "LogisticRegression(max_iter=1000)"
            ],
            "text/html": [
              "<style>#sk-container-id-1 {color: black;background-color: white;}#sk-container-id-1 pre{padding: 0;}#sk-container-id-1 div.sk-toggleable {background-color: white;}#sk-container-id-1 label.sk-toggleable__label {cursor: pointer;display: block;width: 100%;margin-bottom: 0;padding: 0.3em;box-sizing: border-box;text-align: center;}#sk-container-id-1 label.sk-toggleable__label-arrow:before {content: \"▸\";float: left;margin-right: 0.25em;color: #696969;}#sk-container-id-1 label.sk-toggleable__label-arrow:hover:before {color: black;}#sk-container-id-1 div.sk-estimator:hover label.sk-toggleable__label-arrow:before {color: black;}#sk-container-id-1 div.sk-toggleable__content {max-height: 0;max-width: 0;overflow: hidden;text-align: left;background-color: #f0f8ff;}#sk-container-id-1 div.sk-toggleable__content pre {margin: 0.2em;color: black;border-radius: 0.25em;background-color: #f0f8ff;}#sk-container-id-1 input.sk-toggleable__control:checked~div.sk-toggleable__content {max-height: 200px;max-width: 100%;overflow: auto;}#sk-container-id-1 input.sk-toggleable__control:checked~label.sk-toggleable__label-arrow:before {content: \"▾\";}#sk-container-id-1 div.sk-estimator input.sk-toggleable__control:checked~label.sk-toggleable__label {background-color: #d4ebff;}#sk-container-id-1 div.sk-label input.sk-toggleable__control:checked~label.sk-toggleable__label {background-color: #d4ebff;}#sk-container-id-1 input.sk-hidden--visually {border: 0;clip: rect(1px 1px 1px 1px);clip: rect(1px, 1px, 1px, 1px);height: 1px;margin: -1px;overflow: hidden;padding: 0;position: absolute;width: 1px;}#sk-container-id-1 div.sk-estimator {font-family: monospace;background-color: #f0f8ff;border: 1px dotted black;border-radius: 0.25em;box-sizing: border-box;margin-bottom: 0.5em;}#sk-container-id-1 div.sk-estimator:hover {background-color: #d4ebff;}#sk-container-id-1 div.sk-parallel-item::after {content: \"\";width: 100%;border-bottom: 1px solid gray;flex-grow: 1;}#sk-container-id-1 div.sk-label:hover label.sk-toggleable__label {background-color: #d4ebff;}#sk-container-id-1 div.sk-serial::before {content: \"\";position: absolute;border-left: 1px solid gray;box-sizing: border-box;top: 0;bottom: 0;left: 50%;z-index: 0;}#sk-container-id-1 div.sk-serial {display: flex;flex-direction: column;align-items: center;background-color: white;padding-right: 0.2em;padding-left: 0.2em;position: relative;}#sk-container-id-1 div.sk-item {position: relative;z-index: 1;}#sk-container-id-1 div.sk-parallel {display: flex;align-items: stretch;justify-content: center;background-color: white;position: relative;}#sk-container-id-1 div.sk-item::before, #sk-container-id-1 div.sk-parallel-item::before {content: \"\";position: absolute;border-left: 1px solid gray;box-sizing: border-box;top: 0;bottom: 0;left: 50%;z-index: -1;}#sk-container-id-1 div.sk-parallel-item {display: flex;flex-direction: column;z-index: 1;position: relative;background-color: white;}#sk-container-id-1 div.sk-parallel-item:first-child::after {align-self: flex-end;width: 50%;}#sk-container-id-1 div.sk-parallel-item:last-child::after {align-self: flex-start;width: 50%;}#sk-container-id-1 div.sk-parallel-item:only-child::after {width: 0;}#sk-container-id-1 div.sk-dashed-wrapped {border: 1px dashed gray;margin: 0 0.4em 0.5em 0.4em;box-sizing: border-box;padding-bottom: 0.4em;background-color: white;}#sk-container-id-1 div.sk-label label {font-family: monospace;font-weight: bold;display: inline-block;line-height: 1.2em;}#sk-container-id-1 div.sk-label-container {text-align: center;}#sk-container-id-1 div.sk-container {/* jupyter's `normalize.less` sets `[hidden] { display: none; }` but bootstrap.min.css set `[hidden] { display: none !important; }` so we also need the `!important` here to be able to override the default hidden behavior on the sphinx rendered scikit-learn.org. See: https://github.com/scikit-learn/scikit-learn/issues/21755 */display: inline-block !important;position: relative;}#sk-container-id-1 div.sk-text-repr-fallback {display: none;}</style><div id=\"sk-container-id-1\" class=\"sk-top-container\"><div class=\"sk-text-repr-fallback\"><pre>LogisticRegression(max_iter=1000)</pre><b>In a Jupyter environment, please rerun this cell to show the HTML representation or trust the notebook. <br />On GitHub, the HTML representation is unable to render, please try loading this page with nbviewer.org.</b></div><div class=\"sk-container\" hidden><div class=\"sk-item\"><div class=\"sk-estimator sk-toggleable\"><input class=\"sk-toggleable__control sk-hidden--visually\" id=\"sk-estimator-id-1\" type=\"checkbox\" checked><label for=\"sk-estimator-id-1\" class=\"sk-toggleable__label sk-toggleable__label-arrow\">LogisticRegression</label><div class=\"sk-toggleable__content\"><pre>LogisticRegression(max_iter=1000)</pre></div></div></div></div></div>"
            ]
          },
          "metadata": {},
          "execution_count": 22
        }
      ]
    },
    {
      "cell_type": "code",
      "source": [
        "#Model trained or fitted\n",
        "print(\"Model Fitting:\\n\")\n",
        "logr.fit(X_train,y_train)"
      ],
      "metadata": {
        "colab": {
          "base_uri": "https://localhost:8080/",
          "height": 109
        },
        "id": "YGdM1ZykagRJ",
        "outputId": "f82c679e-138b-4134-d0a4-eb943c665825"
      },
      "execution_count": 23,
      "outputs": [
        {
          "output_type": "stream",
          "name": "stdout",
          "text": [
            "Model Fitting:\n",
            "\n"
          ]
        },
        {
          "output_type": "execute_result",
          "data": {
            "text/plain": [
              "LogisticRegression(max_iter=1000)"
            ],
            "text/html": [
              "<style>#sk-container-id-2 {color: black;background-color: white;}#sk-container-id-2 pre{padding: 0;}#sk-container-id-2 div.sk-toggleable {background-color: white;}#sk-container-id-2 label.sk-toggleable__label {cursor: pointer;display: block;width: 100%;margin-bottom: 0;padding: 0.3em;box-sizing: border-box;text-align: center;}#sk-container-id-2 label.sk-toggleable__label-arrow:before {content: \"▸\";float: left;margin-right: 0.25em;color: #696969;}#sk-container-id-2 label.sk-toggleable__label-arrow:hover:before {color: black;}#sk-container-id-2 div.sk-estimator:hover label.sk-toggleable__label-arrow:before {color: black;}#sk-container-id-2 div.sk-toggleable__content {max-height: 0;max-width: 0;overflow: hidden;text-align: left;background-color: #f0f8ff;}#sk-container-id-2 div.sk-toggleable__content pre {margin: 0.2em;color: black;border-radius: 0.25em;background-color: #f0f8ff;}#sk-container-id-2 input.sk-toggleable__control:checked~div.sk-toggleable__content {max-height: 200px;max-width: 100%;overflow: auto;}#sk-container-id-2 input.sk-toggleable__control:checked~label.sk-toggleable__label-arrow:before {content: \"▾\";}#sk-container-id-2 div.sk-estimator input.sk-toggleable__control:checked~label.sk-toggleable__label {background-color: #d4ebff;}#sk-container-id-2 div.sk-label input.sk-toggleable__control:checked~label.sk-toggleable__label {background-color: #d4ebff;}#sk-container-id-2 input.sk-hidden--visually {border: 0;clip: rect(1px 1px 1px 1px);clip: rect(1px, 1px, 1px, 1px);height: 1px;margin: -1px;overflow: hidden;padding: 0;position: absolute;width: 1px;}#sk-container-id-2 div.sk-estimator {font-family: monospace;background-color: #f0f8ff;border: 1px dotted black;border-radius: 0.25em;box-sizing: border-box;margin-bottom: 0.5em;}#sk-container-id-2 div.sk-estimator:hover {background-color: #d4ebff;}#sk-container-id-2 div.sk-parallel-item::after {content: \"\";width: 100%;border-bottom: 1px solid gray;flex-grow: 1;}#sk-container-id-2 div.sk-label:hover label.sk-toggleable__label {background-color: #d4ebff;}#sk-container-id-2 div.sk-serial::before {content: \"\";position: absolute;border-left: 1px solid gray;box-sizing: border-box;top: 0;bottom: 0;left: 50%;z-index: 0;}#sk-container-id-2 div.sk-serial {display: flex;flex-direction: column;align-items: center;background-color: white;padding-right: 0.2em;padding-left: 0.2em;position: relative;}#sk-container-id-2 div.sk-item {position: relative;z-index: 1;}#sk-container-id-2 div.sk-parallel {display: flex;align-items: stretch;justify-content: center;background-color: white;position: relative;}#sk-container-id-2 div.sk-item::before, #sk-container-id-2 div.sk-parallel-item::before {content: \"\";position: absolute;border-left: 1px solid gray;box-sizing: border-box;top: 0;bottom: 0;left: 50%;z-index: -1;}#sk-container-id-2 div.sk-parallel-item {display: flex;flex-direction: column;z-index: 1;position: relative;background-color: white;}#sk-container-id-2 div.sk-parallel-item:first-child::after {align-self: flex-end;width: 50%;}#sk-container-id-2 div.sk-parallel-item:last-child::after {align-self: flex-start;width: 50%;}#sk-container-id-2 div.sk-parallel-item:only-child::after {width: 0;}#sk-container-id-2 div.sk-dashed-wrapped {border: 1px dashed gray;margin: 0 0.4em 0.5em 0.4em;box-sizing: border-box;padding-bottom: 0.4em;background-color: white;}#sk-container-id-2 div.sk-label label {font-family: monospace;font-weight: bold;display: inline-block;line-height: 1.2em;}#sk-container-id-2 div.sk-label-container {text-align: center;}#sk-container-id-2 div.sk-container {/* jupyter's `normalize.less` sets `[hidden] { display: none; }` but bootstrap.min.css set `[hidden] { display: none !important; }` so we also need the `!important` here to be able to override the default hidden behavior on the sphinx rendered scikit-learn.org. See: https://github.com/scikit-learn/scikit-learn/issues/21755 */display: inline-block !important;position: relative;}#sk-container-id-2 div.sk-text-repr-fallback {display: none;}</style><div id=\"sk-container-id-2\" class=\"sk-top-container\"><div class=\"sk-text-repr-fallback\"><pre>LogisticRegression(max_iter=1000)</pre><b>In a Jupyter environment, please rerun this cell to show the HTML representation or trust the notebook. <br />On GitHub, the HTML representation is unable to render, please try loading this page with nbviewer.org.</b></div><div class=\"sk-container\" hidden><div class=\"sk-item\"><div class=\"sk-estimator sk-toggleable\"><input class=\"sk-toggleable__control sk-hidden--visually\" id=\"sk-estimator-id-2\" type=\"checkbox\" checked><label for=\"sk-estimator-id-2\" class=\"sk-toggleable__label sk-toggleable__label-arrow\">LogisticRegression</label><div class=\"sk-toggleable__content\"><pre>LogisticRegression(max_iter=1000)</pre></div></div></div></div></div>"
            ]
          },
          "metadata": {},
          "execution_count": 23
        }
      ]
    },
    {
      "cell_type": "code",
      "source": [
        "#predicting\n",
        "print(\"Model Predicting:\\n\")\n",
        "y_pred=logr.predict(X_test)\n"
      ],
      "metadata": {
        "colab": {
          "base_uri": "https://localhost:8080/"
        },
        "id": "m0gOK3tYaoG4",
        "outputId": "53cb8599-df1c-4155-9a0b-86283e9e5e4e"
      },
      "execution_count": 24,
      "outputs": [
        {
          "output_type": "stream",
          "name": "stdout",
          "text": [
            "Model Predicting:\n",
            "\n"
          ]
        }
      ]
    },
    {
      "cell_type": "code",
      "source": [
        "print(\"Coefficients:\\n\",logr.coef_)\n",
        "print(\"Intercepts:\\n\",logr.intercept_)"
      ],
      "metadata": {
        "colab": {
          "base_uri": "https://localhost:8080/"
        },
        "id": "Z-EGJ1QYattp",
        "outputId": "dff1ec98-228b-4354-e964-7f74584b6759"
      },
      "execution_count": 25,
      "outputs": [
        {
          "output_type": "stream",
          "name": "stdout",
          "text": [
            "Coefficients:\n",
            " [[-2.86345252e-14 -3.21324757e-14 -3.12610614e-14 -2.95151909e-14\n",
            "  -2.95120236e-14 -4.73286274e-14 -3.77934682e-14 -3.83583252e-14\n",
            "  -1.44037051e-14 -3.70420475e-14 -1.33682082e-10 -2.76306288e-10\n",
            "  -2.23038685e-14 -7.04318399e-09 -8.46897562e-15 -1.06762941e-14\n",
            "  -1.06838694e-14 -1.06801076e-14 -1.30585035e-14 -1.55476196e-14\n",
            "  -2.24183170e-08 -6.40943897e-15 -1.08829764e-14 -1.07381475e-15\n",
            "  -4.02391597e-14 -3.28713459e-14 -3.28680349e-14 -1.03262797e-14\n",
            "  -3.40836423e-10 -4.84189840e-17 -1.26019720e-14 -1.79793431e-14\n",
            "  -3.88980294e-09  9.35821674e-11 -2.98785974e-14 -9.63082377e-11\n",
            "  -1.33001205e-15 -4.60444396e-14 -6.14216254e-16 -1.69793410e-14\n",
            "   6.54342928e-17 -6.38494221e-15 -1.06073991e-14 -1.89124002e-14\n",
            "  -8.67106025e-15 -1.50627376e-08 -8.83021351e-09 -1.75454501e-10\n",
            "  -2.45411048e-11 -1.56491782e-15  3.50902053e-09 -1.99268777e-14\n",
            "  -6.48069638e-09 -4.28995303e-14 -2.73860262e-14 -3.15514126e-14\n",
            "  -1.42050546e-14 -1.17339388e-09  2.58075820e-10 -1.53114266e-15\n",
            "  -1.71520111e-14 -1.31173183e-14 -2.14899819e-10 -3.89448354e-14\n",
            "  -3.54249374e-14 -1.52101393e-14  2.47306690e-11 -4.56755767e-14\n",
            "  -1.33462541e-16 -5.34811410e-16 -6.47032502e-11 -3.72318227e-11\n",
            "  -2.81479625e-14 -1.79310343e-10 -3.18174280e-14 -5.96801445e-15\n",
            "  -3.89448354e-14 -1.52101393e-14 -4.50582770e-15 -3.32101412e-14\n",
            "  -2.27581472e-14 -2.90749051e-14 -1.53947266e-14  1.78016389e-16\n",
            "   1.48581657e-15 -4.19233650e-14  7.68253204e-11 -2.95941961e-14\n",
            "  -2.95151248e-14 -4.05377252e-14 -1.26337919e-14 -1.20671414e-15\n",
            "  -2.68216793e-14 -4.73744516e-14 -3.96065945e-15]]\n",
            "Intercepts:\n",
            " [-4.73744516e-14]\n"
          ]
        }
      ]
    },
    {
      "cell_type": "code",
      "source": [
        "print(\"Accuracy_score:\\n\",accuracy_score(y_test,y_pred))\n",
        "print(\"Classification_report:\\n\",classification_report(y_test,y_pred))\n",
        "print(\"Confusion matrix:\\n\",confusion_matrix(y_test,y_pred))"
      ],
      "metadata": {
        "colab": {
          "base_uri": "https://localhost:8080/"
        },
        "id": "ErZlsyRlaya5",
        "outputId": "4a251af4-5816-4366-9384-8e5f463f6f2f"
      },
      "execution_count": 26,
      "outputs": [
        {
          "output_type": "stream",
          "name": "stdout",
          "text": [
            "Accuracy_score:\n",
            " 0.9643206256109482\n",
            "Classification_report:\n",
            "               precision    recall  f1-score   support\n",
            "\n",
            "           0       0.97      1.00      0.98      1975\n",
            "           1       0.00      0.00      0.00        71\n",
            "\n",
            "    accuracy                           0.96      2046\n",
            "   macro avg       0.48      0.50      0.49      2046\n",
            "weighted avg       0.93      0.96      0.95      2046\n",
            "\n",
            "Confusion matrix:\n",
            " [[1973    2]\n",
            " [  71    0]]\n"
          ]
        }
      ]
    },
    {
      "cell_type": "code",
      "source": [
        "import pandas as pd\n",
        "from sklearn.model_selection import train_test_split\n",
        "from sklearn.metrics import accuracy_score\n",
        "from sklearn.ensemble import RandomForestClassifier\n",
        "\n",
        "rf=RandomForestClassifier()\n",
        "\n",
        "df=pd.read_csv(\"data (2).csv\")\n",
        "print(df)\n",
        "\n",
        "X = df.drop('Bankrupt?', axis=1)\n",
        "y = df['Bankrupt?']\n",
        "\n",
        "X_train,X_test,y_train,y_test=train_test_split(X,y,random_state=0,test_size=0.3)\n",
        "\n",
        "train=rf.fit(X_train,y_train)\n",
        "\n",
        "y_pred=rf.predict(X_test)\n",
        "\n",
        "accuracy = accuracy_score(y_test, y_pred)\n",
        "print(\"Random Forest Accuracy: {:.2f}%\".format(accuracy * 100))\n",
        "print(\"Accuracy:\", accuracy)"
      ],
      "metadata": {
        "colab": {
          "base_uri": "https://localhost:8080/"
        },
        "id": "FvqFS0A7hC7W",
        "outputId": "e75d38d5-ca52-4cf4-d8f4-45d4426c2f55"
      },
      "execution_count": 27,
      "outputs": [
        {
          "output_type": "stream",
          "name": "stderr",
          "text": [
            "IOPub data rate exceeded.\n",
            "The notebook server will temporarily stop sending output\n",
            "to the client in order to avoid crashing it.\n",
            "To change this limit, set the config variable\n",
            "`--NotebookApp.iopub_data_rate_limit`.\n",
            "\n",
            "Current values:\n",
            "NotebookApp.iopub_data_rate_limit=1000000.0 (bytes/sec)\n",
            "NotebookApp.rate_limit_window=3.0 (secs)\n",
            "\n"
          ]
        },
        {
          "output_type": "stream",
          "name": "stdout",
          "text": [
            "Random Forest Accuracy: 97.12%\n",
            "Accuracy: 0.9711632453567938\n"
          ]
        }
      ]
    },
    {
      "cell_type": "code",
      "source": [
        "import pandas as pd\n",
        "from matplotlib import pyplot as plt\n",
        "import seaborn as sns\n",
        "df=pd.read_csv(\"data (2).csv\")\n",
        "\n",
        "X = df.drop('Bankrupt?', axis=1)\n",
        "y = df['Bankrupt?']\n",
        "\n",
        "import pandas as pd\n",
        "import matplotlib.pyplot as plt\n",
        "\n",
        "x_variable = ' ROA(C) before interest and depreciation before interest'\n",
        "y_variable = ' ROA(A) before interest and % after tax'\n",
        "\n",
        "plt.figure(figsize=(8, 6))\n",
        "plt.scatter(df[x_variable], df[y_variable], alpha=0.5)\n",
        "plt.title(f'Scatter Plot of {x_variable} vs. {y_variable}')\n",
        "plt.xlabel(x_variable)\n",
        "plt.ylabel(y_variable)\n",
        "plt.grid(True)\n",
        "plt.show()"
      ],
      "metadata": {
        "colab": {
          "base_uri": "https://localhost:8080/",
          "height": 564
        },
        "id": "a8CkRWKLjj8f",
        "outputId": "b3577eb7-f475-4c46-9e1b-6fe1d3d68cb8"
      },
      "execution_count": 28,
      "outputs": [
        {
          "output_type": "display_data",
          "data": {
            "text/plain": [
              "<Figure size 800x600 with 1 Axes>"
            ],
            "image/png": "[encoded data removed]"
          },
          "metadata": {}
        }
      ]
    }
  ]
}