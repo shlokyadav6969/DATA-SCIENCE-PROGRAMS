{
  "nbformat": 4,
  "nbformat_minor": 0,
  "metadata": {
    "colab": {
      "provenance": []
    },
    "kernelspec": {
      "name": "python3",
      "display_name": "Python 3"
    },
    "language_info": {
      "name": "python"
    }
  },
  "cells": [
    {
      "cell_type": "code",
      "execution_count": null,
      "metadata": {
        "id": "RzteuQuJ51Om",
        "colab": {
          "base_uri": "https://localhost:8080/",
          "height": 54
        },
        "outputId": "7a1e50a7-a0be-4ba0-9ecd-d379176e4065"
      },
      "outputs": [
        {
          "output_type": "execute_result",
          "data": {
            "text/plain": [
              "'Statistical analysis require about the distribution of variables in your datatset.\\nThe seaborn function displot support several approaches '"
            ],
            "application/vnd.google.colaboratory.intrinsic+json": {
              "type": "string"
            }
          },
          "metadata": {},
          "execution_count": 1
        }
      ],
      "source": [
        "'''Statistical analysis require about the distribution of variables in your datatset.\n",
        "The seaborn function displot support several approaches '''"
      ]
    },
    {
      "cell_type": "code",
      "source": [
        "import seaborn as sns\n",
        "import pandas as pd\n",
        "df=pd.read_csv('Iris.csv')\n",
        "print(df)\n",
        "\n",
        "print(df.shape)\n",
        "\n",
        "print(df.head())\n",
        "print(df.tail())\n",
        "\n",
        "print(df.describe())"
      ],
      "metadata": {
        "colab": {
          "base_uri": "https://localhost:8080/"
        },
        "id": "nb3as-HaC3Cd",
        "outputId": "e3a90da4-1b7d-40da-9308-ab14209123eb"
      },
      "execution_count": null,
      "outputs": [
        {
          "output_type": "stream",
          "name": "stdout",
          "text": [
            "      Id  SepalLengthCm  SepalWidthCm  PetalLengthCm  PetalWidthCm  \\\n",
            "0      1            5.1           3.5            1.4           0.2   \n",
            "1      2            4.9           3.0            1.4           0.2   \n",
            "2      3            4.7           3.2            1.3           0.2   \n",
            "3      4            4.6           3.1            1.5           0.2   \n",
            "4      5            5.0           3.6            1.4           0.2   \n",
            "..   ...            ...           ...            ...           ...   \n",
            "145  146            6.7           3.0            5.2           2.3   \n",
            "146  147            6.3           2.5            5.0           1.9   \n",
            "147  148            6.5           3.0            5.2           2.0   \n",
            "148  149            6.2           3.4            5.4           2.3   \n",
            "149  150            5.9           3.0            5.1           1.8   \n",
            "\n",
            "            Species  \n",
            "0       Iris-setosa  \n",
            "1       Iris-setosa  \n",
            "2       Iris-setosa  \n",
            "3       Iris-setosa  \n",
            "4       Iris-setosa  \n",
            "..              ...  \n",
            "145  Iris-virginica  \n",
            "146  Iris-virginica  \n",
            "147  Iris-virginica  \n",
            "148  Iris-virginica  \n",
            "149  Iris-virginica  \n",
            "\n",
            "[150 rows x 6 columns]\n",
            "(150, 6)\n",
            "   Id  SepalLengthCm  SepalWidthCm  PetalLengthCm  PetalWidthCm      Species\n",
            "0   1            5.1           3.5            1.4           0.2  Iris-setosa\n",
            "1   2            4.9           3.0            1.4           0.2  Iris-setosa\n",
            "2   3            4.7           3.2            1.3           0.2  Iris-setosa\n",
            "3   4            4.6           3.1            1.5           0.2  Iris-setosa\n",
            "4   5            5.0           3.6            1.4           0.2  Iris-setosa\n",
            "      Id  SepalLengthCm  SepalWidthCm  PetalLengthCm  PetalWidthCm  \\\n",
            "145  146            6.7           3.0            5.2           2.3   \n",
            "146  147            6.3           2.5            5.0           1.9   \n",
            "147  148            6.5           3.0            5.2           2.0   \n",
            "148  149            6.2           3.4            5.4           2.3   \n",
            "149  150            5.9           3.0            5.1           1.8   \n",
            "\n",
            "            Species  \n",
            "145  Iris-virginica  \n",
            "146  Iris-virginica  \n",
            "147  Iris-virginica  \n",
            "148  Iris-virginica  \n",
            "149  Iris-virginica  \n",
            "               Id  SepalLengthCm  SepalWidthCm  PetalLengthCm  PetalWidthCm\n",
            "count  150.000000     150.000000    150.000000     150.000000    150.000000\n",
            "mean    75.500000       5.843333      3.054000       3.758667      1.198667\n",
            "std     43.445368       0.828066      0.433594       1.764420      0.763161\n",
            "min      1.000000       4.300000      2.000000       1.000000      0.100000\n",
            "25%     38.250000       5.100000      2.800000       1.600000      0.300000\n",
            "50%     75.500000       5.800000      3.000000       4.350000      1.300000\n",
            "75%    112.750000       6.400000      3.300000       5.100000      1.800000\n",
            "max    150.000000       7.900000      4.400000       6.900000      2.500000\n"
          ]
        }
      ]
    },
    {
      "cell_type": "code",
      "source": [
        "print(df.loc[df[\"Species\"] == \"Iris-setosa\"])\n",
        "\n",
        "# print(df[\"Speices\"].value_counts())\n",
        "\n",
        "print(df.describe())\n"
      ],
      "metadata": {
        "colab": {
          "base_uri": "https://localhost:8080/"
        },
        "id": "teE4oEaTGX1D",
        "outputId": "0a7d3bdd-4023-4af6-9a48-10f11d43b5e7"
      },
      "execution_count": null,
      "outputs": [
        {
          "output_type": "stream",
          "name": "stdout",
          "text": [
            "    Id  SepalLengthCm  SepalWidthCm  PetalLengthCm  PetalWidthCm      Species\n",
            "0    1            5.1           3.5            1.4           0.2  Iris-setosa\n",
            "1    2            4.9           3.0            1.4           0.2  Iris-setosa\n",
            "2    3            4.7           3.2            1.3           0.2  Iris-setosa\n",
            "3    4            4.6           3.1            1.5           0.2  Iris-setosa\n",
            "4    5            5.0           3.6            1.4           0.2  Iris-setosa\n",
            "5    6            5.4           3.9            1.7           0.4  Iris-setosa\n",
            "6    7            4.6           3.4            1.4           0.3  Iris-setosa\n",
            "7    8            5.0           3.4            1.5           0.2  Iris-setosa\n",
            "8    9            4.4           2.9            1.4           0.2  Iris-setosa\n",
            "9   10            4.9           3.1            1.5           0.1  Iris-setosa\n",
            "10  11            5.4           3.7            1.5           0.2  Iris-setosa\n",
            "11  12            4.8           3.4            1.6           0.2  Iris-setosa\n",
            "12  13            4.8           3.0            1.4           0.1  Iris-setosa\n",
            "13  14            4.3           3.0            1.1           0.1  Iris-setosa\n",
            "14  15            5.8           4.0            1.2           0.2  Iris-setosa\n",
            "15  16            5.7           4.4            1.5           0.4  Iris-setosa\n",
            "16  17            5.4           3.9            1.3           0.4  Iris-setosa\n",
            "17  18            5.1           3.5            1.4           0.3  Iris-setosa\n",
            "18  19            5.7           3.8            1.7           0.3  Iris-setosa\n",
            "19  20            5.1           3.8            1.5           0.3  Iris-setosa\n",
            "20  21            5.4           3.4            1.7           0.2  Iris-setosa\n",
            "21  22            5.1           3.7            1.5           0.4  Iris-setosa\n",
            "22  23            4.6           3.6            1.0           0.2  Iris-setosa\n",
            "23  24            5.1           3.3            1.7           0.5  Iris-setosa\n",
            "24  25            4.8           3.4            1.9           0.2  Iris-setosa\n",
            "25  26            5.0           3.0            1.6           0.2  Iris-setosa\n",
            "26  27            5.0           3.4            1.6           0.4  Iris-setosa\n",
            "27  28            5.2           3.5            1.5           0.2  Iris-setosa\n",
            "28  29            5.2           3.4            1.4           0.2  Iris-setosa\n",
            "29  30            4.7           3.2            1.6           0.2  Iris-setosa\n",
            "30  31            4.8           3.1            1.6           0.2  Iris-setosa\n",
            "31  32            5.4           3.4            1.5           0.4  Iris-setosa\n",
            "32  33            5.2           4.1            1.5           0.1  Iris-setosa\n",
            "33  34            5.5           4.2            1.4           0.2  Iris-setosa\n",
            "34  35            4.9           3.1            1.5           0.1  Iris-setosa\n",
            "35  36            5.0           3.2            1.2           0.2  Iris-setosa\n",
            "36  37            5.5           3.5            1.3           0.2  Iris-setosa\n",
            "37  38            4.9           3.1            1.5           0.1  Iris-setosa\n",
            "38  39            4.4           3.0            1.3           0.2  Iris-setosa\n",
            "39  40            5.1           3.4            1.5           0.2  Iris-setosa\n",
            "40  41            5.0           3.5            1.3           0.3  Iris-setosa\n",
            "41  42            4.5           2.3            1.3           0.3  Iris-setosa\n",
            "42  43            4.4           3.2            1.3           0.2  Iris-setosa\n",
            "43  44            5.0           3.5            1.6           0.6  Iris-setosa\n",
            "44  45            5.1           3.8            1.9           0.4  Iris-setosa\n",
            "45  46            4.8           3.0            1.4           0.3  Iris-setosa\n",
            "46  47            5.1           3.8            1.6           0.2  Iris-setosa\n",
            "47  48            4.6           3.2            1.4           0.2  Iris-setosa\n",
            "48  49            5.3           3.7            1.5           0.2  Iris-setosa\n",
            "49  50            5.0           3.3            1.4           0.2  Iris-setosa\n",
            "               Id  SepalLengthCm  SepalWidthCm  PetalLengthCm  PetalWidthCm\n",
            "count  150.000000     150.000000    150.000000     150.000000    150.000000\n",
            "mean    75.500000       5.843333      3.054000       3.758667      1.198667\n",
            "std     43.445368       0.828066      0.433594       1.764420      0.763161\n",
            "min      1.000000       4.300000      2.000000       1.000000      0.100000\n",
            "25%     38.250000       5.100000      2.800000       1.600000      0.300000\n",
            "50%     75.500000       5.800000      3.000000       4.350000      1.300000\n",
            "75%    112.750000       6.400000      3.300000       5.100000      1.800000\n",
            "max    150.000000       7.900000      4.400000       6.900000      2.500000\n"
          ]
        }
      ]
    },
    {
      "cell_type": "code",
      "source": [
        "#Calculating sum mean median\n",
        "\n",
        "sum_data = df[\"SepalLengthCm\"].sum()\n",
        "mean_data = df[\"SepalLengthCm\"].mean()\n",
        "median_data = df[\"SepalLengthCm\"].median()\n",
        "\n",
        "print(\"Sum:\", sum_data, \"\\nMean:\", mean_data, \"\\nMedian:\", median_data)\n",
        "#Minimum and Maximum\n",
        "min_data = df[\"SepalLengthCm\"].min()\n",
        "max_data = df[\"SepalLengthCm\"].max()\n",
        "\n",
        "print(\"Min:\", min_data, \"\\nMax:\", max_data)"
      ],
      "metadata": {
        "colab": {
          "base_uri": "https://localhost:8080/"
        },
        "id": "sCQeYRjeHW6k",
        "outputId": "209419fc-408d-46c4-ecd8-736669874d66"
      },
      "execution_count": null,
      "outputs": [
        {
          "output_type": "stream",
          "name": "stdout",
          "text": [
            "Sum: 876.5 \n",
            "Mean: 5.843333333333334 \n",
            "Median: 5.8\n",
            "Min: 4.3 \n",
            "Max: 7.9\n"
          ]
        }
      ]
    },
    {
      "cell_type": "code",
      "source": [
        "#step 1 load the data\n",
        "import pandas as pd\n",
        "\n",
        "#Load the csv file into a total frame\n",
        "df= pd.read_csv(\"Data.csv\")\n",
        "print(df)"
      ],
      "metadata": {
        "colab": {
          "base_uri": "https://localhost:8080/"
        },
        "id": "tzK2sn8RJy28",
        "outputId": "c11f174c-1840-4baf-c216-e1e98db5605b"
      },
      "execution_count": null,
      "outputs": [
        {
          "output_type": "stream",
          "name": "stdout",
          "text": [
            "   Country   Age   Salary Purchased\n",
            "0   France  44.0  72000.0        No\n",
            "1    Spain  27.0  48000.0       Yes\n",
            "2  Germany  30.0  54000.0        No\n",
            "3    Spain  38.0  61000.0        No\n",
            "4  Germany  40.0      NaN       Yes\n",
            "5   France  35.0  58000.0       Yes\n",
            "6    Spain   NaN  52000.0        No\n",
            "7   France  48.0  79000.0       Yes\n",
            "8  Germany  50.0  83000.0        No\n",
            "9   France  37.0  67000.0       Yes\n"
          ]
        }
      ]
    },
    {
      "cell_type": "code",
      "source": [
        "#Step 2 Missing Handle Values\n",
        "#Check for missing values\n",
        "print(df.isnull().sum())\n",
        "import numpy as np\n",
        "\n",
        "#fill the mising age with men age\n",
        "df[\"Age\"].fillna(df[\"Age\"].mean(),inplace=True)\n",
        "\n",
        "#fill missing salary with median salary\n",
        "df[\"Salary\"].fillna(df[\"Salary\"].median(), inplace=True)\n",
        "\n",
        "print(df)"
      ],
      "metadata": {
        "colab": {
          "base_uri": "https://localhost:8080/"
        },
        "id": "pTylgB0rMH_t",
        "outputId": "f9677f06-4db2-4b34-cfc9-00433b58c0b5"
      },
      "execution_count": null,
      "outputs": [
        {
          "output_type": "stream",
          "name": "stdout",
          "text": [
            "Country      0\n",
            "Age          0\n",
            "Salary       1\n",
            "Purchased    0\n",
            "dtype: int64\n",
            "   Country        Age   Salary Purchased\n",
            "0   France  44.000000  72000.0        No\n",
            "1    Spain  27.000000  48000.0       Yes\n",
            "2  Germany  30.000000  54000.0        No\n",
            "3    Spain  38.000000  61000.0        No\n",
            "4  Germany  40.000000  61000.0       Yes\n",
            "5   France  35.000000  58000.0       Yes\n",
            "6    Spain  38.777778  52000.0        No\n",
            "7   France  48.000000  79000.0       Yes\n",
            "8  Germany  50.000000  83000.0        No\n",
            "9   France  37.000000  67000.0       Yes\n"
          ]
        }
      ]
    },
    {
      "cell_type": "code",
      "source": [
        "#Convert the data types\n",
        "#Ensure that age and salary columns are of numric type\n",
        "#Convert Age and Salary to numeric ty[es if they are not already\n",
        "df[\"Age\"]= pd.to_numeric(df[\"Age\"])\n",
        "df[\"Salary\"]=pd.to_numeric(df[\"Salary\"])\n",
        "print(df.dtypes)"
      ],
      "metadata": {
        "colab": {
          "base_uri": "https://localhost:8080/"
        },
        "id": "IIgk-zn2NuQO",
        "outputId": "b6c2732e-c562-4af3-d37c-5f6371d7324e"
      },
      "execution_count": null,
      "outputs": [
        {
          "output_type": "stream",
          "name": "stdout",
          "text": [
            "Country       object\n",
            "Age          float64\n",
            "Salary       float64\n",
            "Purchased     object\n",
            "dtype: object\n"
          ]
        }
      ]
    },
    {
      "cell_type": "code",
      "source": [
        "#Step 4 Normalize /Scale Numerical Value\n",
        "\n",
        "from sklearn.preprocessing import MinMaxScaler\n",
        "\n",
        "scaler= MinMaxScaler()\n",
        "\n",
        "#Normalize Age and Salary\n",
        "df[[\"Age\",\"Salary\"]]=scaler.fit_transform(df[[\"Age\",\"Salary\"]])\n",
        "print(df)"
      ],
      "metadata": {
        "colab": {
          "base_uri": "https://localhost:8080/"
        },
        "id": "4cfPYiutQWkT",
        "outputId": "122170df-3aff-4640-fa5b-e20e4eb7e960"
      },
      "execution_count": null,
      "outputs": [
        {
          "output_type": "stream",
          "name": "stdout",
          "text": [
            "   Country       Age    Salary Purchased\n",
            "0   France  0.739130  0.685714        No\n",
            "1    Spain  0.000000  0.000000       Yes\n",
            "2  Germany  0.130435  0.171429        No\n",
            "3    Spain  0.478261  0.371429        No\n",
            "4  Germany  0.565217  0.371429       Yes\n",
            "5   France  0.347826  0.285714       Yes\n",
            "6    Spain  0.512077  0.114286        No\n",
            "7   France  0.913043  0.885714       Yes\n",
            "8  Germany  1.000000  1.000000        No\n",
            "9   France  0.434783  0.542857       Yes\n"
          ]
        }
      ]
    },
    {
      "cell_type": "code",
      "source": [
        "#Step 5 Encode Categorial Variables\n",
        "df=pd.get_dummies(df, columns=[\"Purchased\"],prefix=\"Purch\")\n",
        "print(df)"
      ],
      "metadata": {
        "colab": {
          "base_uri": "https://localhost:8080/"
        },
        "id": "5WiQ2W4jQkqK",
        "outputId": "f25d84cb-0071-49f5-e6be-58fbd438d50c"
      },
      "execution_count": null,
      "outputs": [
        {
          "output_type": "stream",
          "name": "stdout",
          "text": [
            "   Country       Age    Salary  Purch_No  Purch_Yes\n",
            "0   France  0.739130  0.685714      True      False\n",
            "1    Spain  0.000000  0.000000     False       True\n",
            "2  Germany  0.130435  0.171429      True      False\n",
            "3    Spain  0.478261  0.371429      True      False\n",
            "4  Germany  0.565217  0.371429     False       True\n",
            "5   France  0.347826  0.285714     False       True\n",
            "6    Spain  0.512077  0.114286      True      False\n",
            "7   France  0.913043  0.885714     False       True\n",
            "8  Germany  1.000000  1.000000      True      False\n",
            "9   France  0.434783  0.542857     False       True\n"
          ]
        }
      ]
    },
    {
      "cell_type": "code",
      "source": [],
      "metadata": {
        "id": "pFfKYqKHR_OT"
      },
      "execution_count": null,
      "outputs": []
    }
  ]
}